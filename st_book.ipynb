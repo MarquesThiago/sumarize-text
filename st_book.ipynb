{
 "cells": [
  {
   "cell_type": "code",
   "execution_count": 1,
   "id": "ef17ef2a",
   "metadata": {},
   "outputs": [
    {
     "name": "stderr",
     "output_type": "stream",
     "text": [
      "[nltk_data] Downloading package punkt to\n",
      "[nltk_data]     C:\\Users\\thiag\\AppData\\Roaming\\nltk_data...\n",
      "[nltk_data]   Package punkt is already up-to-date!\n"
     ]
    }
   ],
   "source": [
    "import PyPDF2\n",
    "import re\n",
    "import os \n",
    "import fitz\n",
    "from goose3 import Goose\n",
    "from sumariza import (\n",
    "    sumarize_per_frequency as sumi1,\n",
    "    sumarize_by_luhn as sumi2,\n",
    "    simple_clear)"
   ]
  },
  {
   "cell_type": "code",
   "execution_count": 2,
   "id": "2af746a0",
   "metadata": {},
   "outputs": [],
   "source": [
    "# pdf = open(r'.\\books\\a_moreninha.pdf', 'rb')\n",
    "# book = PyPDF2.PdfFileReader(pdf)"
   ]
  },
  {
   "cell_type": "code",
   "execution_count": 3,
   "id": "aae83fb9",
   "metadata": {},
   "outputs": [],
   "source": [
    "# total_pages = book.getNumPages()\n",
    "# total_pages"
   ]
  },
  {
   "cell_type": "code",
   "execution_count": 4,
   "id": "4c9f4ec9",
   "metadata": {},
   "outputs": [],
   "source": [
    "# book.getPage(9).extractText"
   ]
  },
  {
   "cell_type": "code",
   "execution_count": 5,
   "id": "57f93f7e",
   "metadata": {},
   "outputs": [],
   "source": [
    "text = None\n",
    "with fitz.open(r'.\\books\\a_moreninha.pdf') as book:\n",
    "    \n",
    "    content = [page.get_text() for page in book]\n",
    "    text = simple_clear(\"\".join(content))"
   ]
  },
  {
   "cell_type": "code",
   "execution_count": 6,
   "id": "6ea7eb3d",
   "metadata": {},
   "outputs": [
    {
     "data": {
      "text/plain": [
       "'ministério da cultura fundação biblioteca nacional departamento nacional do livro a moreninha joaquim manuel de macedo 1 aposta imprudente bravo! exclamou filipe, entrando e despindo a casaca, que pendurou em um cabide velho. bravo!... interessante cena! mas certo que desonrosa fora para casa de um estudante de medicina e já no sexto ano, a não valer-lhe o adágio antigo: - o hábito não faz o monge. - temos discurso!... atenção!... ordem!... gritaram a um tempo três vozes. - coisa célebre! acrescentou leopoldo. filipe sempre se torna orador depois do jantar... - e dá-lhe para fazer epigramas, disse fabrício. - naturalmente, acudiu leopoldo, que, por dono da casa, maior quinhão houvera no cumprimento do recém-chegado; naturalmente. bocage, quando tomava carraspana, descompunha os médicos. - c’est trop fort! bocejou augusto, espreguiçando-se no canapé em que se achava deitado. - como quiserem, continuou filipe, pondo-se em hábitos menores; mas, por minha vida, que a carraspana de hoje ainda me concede apreciar devidamente aqui o meu amigo fabrício, que talvez acaba de chegar de alguma visita diplomática, vestido com esmero e alinho, porém, tendo a cabeça encapuzada com a vermelha e velha carapuça do leopoldo; este, ali escondido dentro do seu robe-de- chambre cor de burro quando foge, e sentado em uma cadeira tão desconjuntada que, para não cair com ela, põe em ação todas as leis de equilíbrio, que estudou em pouillet; acolá, enfim, o meu romântico augusto, em ceroulas, com as fraldas à mostra, estirado em um canapé em tão bom uso, que ainda agora mesmo fez com que leopoldo se lembrasse de bocage. oh! vv. ss. tomam café!... ali o senhor descansa a xícara azul em um pires de porcelana... aquele tem uma chávena com belos lavores dourados, mas o pires é cor-de-rosa... aquele outro nem porcelana, nem lavores, nem cor azul ou de rosa, nem xícara... nem pires... aquilo é uma tigela num prato... - carraspana!... carraspana!... - o’ moleque! prosseguiu filipe, voltando-se para o corredor, traze-me café, ainda que seja no púcaro em que o coas; pois creio que a não ser a falta de louças, já teu senhor mo teria oferecido. - carraspana!... carraspana!... - sim, continuou ele, eu vejo que vocês... - carraspana!... carraspana!... - não sei de nós quem mostra... - carraspana!... carraspana!... seguiram-se alguns momentos de silêncio; ficaram os quatro estudantes assim a modo de moças quando jogam o siso. filipe não falava, por conhecer o propósito em que estavam os três de lhe não deixar concluir uma só proposição, e estes, porque esperavam vê-lo abrir a boca para gritar-lhe: carraspana!... enfim, foi ainda filipe o primeiro que falou, exclamando de repente: - paz! paz!... - ah! já?... disse leopoldo, que era o mais influído. - filipe é como o galego, disse um outro; perderia tudo para não guardar silêncio uma hora. - está bem, o passado, o passado; protesto não falar mais nunca na carapuça, nem nas cadeiras, nem no canapé, nem na louça do leopoldo... estão no caso... sim... - hein?... olha a carraspana. - basta! vamos a negócio mais sério. onde vão vocês passar o dia de sant’ana? - por quê?... temos patuscada?... acudiu leopoldo. - minha avó chama-se ana. - ergo!... - estou habilitado para convidá-los a vir passar a véspera e dia de sant’ana conosco na ilha de... - eu vou, disse prontamente leopoldo. - e dois, acudiu fabrício. augusto só guardou silêncio. - e tu, augusto?... perguntou filipe. - eu?... eu não conheço tua avó. - ora, sou seu criado; também eu não a conheço, disse fabrício. - nem eu, acrescentou leopoldo. - não conhecem a avó; mas conhecem o neto, disse filipe. - e demais, tornou fabrício, palavra de honra que nenhum de nós tomará o trabalho de lá ir por causa da velha. - augusto, minha avó é a velha mais patusca do rio de janeiro. - sim?... que idade tem? - sessenta anos. - está fresquinha ainda... ora... se um de nós a enfeitiça e se faz avô de filipe!... - e ela, que possui talvez seus duzentos mil cruzados, não é assim, filipe? olha, se é assim, e tua avó se lembrasse de querer casar comigo, disse fabrício, juro que mais depressa daria o meu “recebo a vós” aos cobres da velha, do que a qualquer das nossas “toma-larguras” da moda. - por quem são!... deixem minha avó e tratemos da patuscada. então tu vais, augusto? - não. - é uma bonita ilha. - não duvido. - reuniremos uma sociedade pouco numerosa, mas bem escolhida. - melhor para vocês. - no domingo, à noite, teremos um baile. - estimo que se divirtam. - minhas primas vão. - não as conheço. - são bonitas. - que me importa?... deixe-me. vocês sabem o meu fraco e caem-me logo com ele: moças!... moças!... confesso que dou o cavaco por elas, mas as moças me têm posto velho. - é porque ele não conhece tuas primas, disse fabrício. - ora... o que poderão ser senão demoninhas, como são todas as outras moças bonitas? - então tuas primas são gentis?... perguntou leopoldo a filipe. - a mais velha, respondeu este, tem dezessete anos, chama-se joana, tem cabelos negros, belos olhos da mesma cor, e é pálida. - hein?... exclamou augusto, pondo-se de um pulo duas braças longe do canapé onde estava deitado, então ela é pálida?... - a mais moça tem um ano de menos: loura, de olhos azuis, faces cor-de-rosa... seio de alabastro... dentes... - como se chama? - joaquina. - ai, meus pecados!... disse augusto. - vejam como augusto já está enternecido... - mas, filipe, tu já me disseste que tinhas uma irmã. - sim, é uma moreninha de quatorze anos. - moreninha? diabo!... exclamou outra vez augusto, dando novo pulo. - está sabido... augusto não relaxa a patuscada. - é que este ano já tenho pagodeado meu quantum satis, e, assim como vocês, também eu quero andar em dia com alguns senhores com quem nos é muito preciso estar de contas justas no mês de novembro. - mas a pálida?... a loura?... a moreninha?... - que interessante terceto! exclamou com tom teatral augusto; que coleção de belos tipos!... uma jovem de dezessete anos, pálida... romântica e, portanto, sublime; uma outra, loura... de olhos azuis... faces cor-de-rosa... e... não sei que mais: enfim, clássica e por isso bela. por último uma terceira de quatorze anos... moreninha, que, ou seja, romântica ou clássica, prosaica ou poética, ingênua ou misteriosa, há de, por força, ser interessante, travessa e engraçada; e por conseqüência qualquer das três, ou todas ao mesmo tempo, muito capazes de fazer de minha alma peteca, de meu coração pitorra!... está tratado... não há remédio... filipe, vou visitar tua avó. sim, é melhor passar os dois dias estudando alegremente nesses três interessantes volumes da grande obra da natureza do que gastar as horas, por exemplo, sobre um célebre velpeau, que só ele faz por sua conta e risco mais citações em cada página do que todos os meirinhos reunidos fizeram, fazem e hão de fazer pelo mundo. - bela conseqüência! é raciocínio o teu que faria inveja a um caloiro, disse fabrício. - bem raciocinado... não tem dúvida, acudiu filipe; então, conto contigo, augusto? - dou-te palavra... e mesmo porque eu devo visitar tua avó. - sim... já sei... isso dirás tu a ela. - mas vocês não têm reparado que fabrício tornou-se amuado e pensativo, desde que se falou nas primas de filipe?... - disseram-me que ele anda enrabichado com minha prima joaninha. - a pálida?... pois eu já me vou dispondo a fazer meu pé-de-alferes com a loura. - e tu, augusto, quererás porventura reqüestar minha irmã?... - é possível. - e de que gostarás mais, da pálida, da loura ou da moreninha?... - creio que gostarei, principalmente, de todas. - ei-lo aí com a sua mania. - augusto é incorrigível. - não, é romântico. - nem uma coisa nem outra... é um grandíssimo velhaco. - não diz o que sente. - não sente o que diz. - faz mais do que isso, pois diz o que não sente. - o que quiserem... serei incorrigível, romântico ou velhaco, não digo o que sinto não sinto o que digo, ou mesmo digo o que não sinto; sou, enfim, mau e perigoso e vocês inocentes e anjinhos. todavia, eu a ninguém escondo os sentimentos que ainda há pouco mostrei, e em toda a parte confesso que sou volúvel, inconstante e incapaz de amar três dias um mesmo objeto; verdade seja que nada há mais fácil do que me ouvirem um “eu vos amo”, mas também a nenhuma pedi ainda que me desse fé; pelo contrário, digo a todas o como sou e, se, apesar de tal, sua vaidade é tanta que se suponham inesquecíveis, a culpa, certo, que não é minha. eis o que faço. e vós, meus caros amigos, que blasonais de firmeza de rochedo, vós jurais amor eterno cem vezes por ano a cem diversas belezas... vós sois tanto ou ainda mais inconstantes que eu!... mas entre nós há sempre uma grande diferença: - vós enganais e eu desengano; eu digo a verdade e vós, meus senhores, mentis... - está romântico!... está romântico!... exclamaram os três, rindo às gargalhadas. - a alma que deus me deu, continuou augusto, é sensível demais para reter por muito tempo uma mesma impressão. sou inconstante, mas sou feliz na minha inconstância, porque apaixonando-me tantas vezes não chego nunca a amar uma vez. - oh!... oh!... que horror!... que horror!... - sim! esse sentimento que voto às vezes a dez jovens num só dia, às vezes, numa mesma hora, não é amor, certamente. por minha vida, interessantes senhores, meus pensamentos nunca têm dama, porque sempre têm damas; eu nunca amei... eu não amo ainda... eu não amarei jamais... - ah!... ah!... ah!... e como ele diz aquilo! - ou, se querem, precisarei melhor o meu programa sentimental; lá vai: afirmo, meus senhores, que meu pensamento nunca se ocupou, não se ocupa, nem se há de ocupar de uma mesma moça quinze dias. - e eu afirmo que segunda-feira voltarás da ilha de... loucamente apaixonado de alguma de minhas primas. - pode bem suceder que de ambas. - e que todo o resto do ano letivo passarás pela rua de... duas e três vezes por dia, somente com o fim de vê-la. - assevero que não. - assevero que sim. - quem?... eu?... eu mesmo passar duas e três vezes por dia por uma só rua, por causa de uma m'"
      ]
     },
     "execution_count": 6,
     "metadata": {},
     "output_type": "execute_result"
    }
   ],
   "source": [
    "text[:10000]"
   ]
  },
  {
   "cell_type": "code",
   "execution_count": 7,
   "id": "37cd66ac",
   "metadata": {},
   "outputs": [
    {
     "data": {
      "text/plain": [
       "'ali o senhor descansa a xícara azul em um pires de porcelana... aquele tem uma chávena com belos lavores dourados, mas o pires é cor-de-rosa... aquele outro nem porcelana, nem lavores, nem cor azul ou de rosa, nem xícara... nem pires... aquilo é uma tigela num prato... - carraspana!... uma jovem de dezessete anos, pálida... romântica e, portanto, sublime; uma outra, loura... de olhos azuis... faces cor-de-rosa... e... não sei que mais: enfim, clássica e por isso bela. - nada... não quero que o sr. fabrício me olhe com maus olhos... além de que, eu devo ir apressar o jantar, pois leu no seu rosto que a conversação que teve com a sra. d. violante, quando mais não desse, ao menos produziu-lhe muito apetite... mesmo um apetite de... de... - acabe. - não é coisa de cuidado... eu... ora... o estudante... - é por certo um famoso pateta... - não é bom ir tão longe... - não tem dúvida... é tolo rematado. belo amanhecer é este, sem dúvida... mas, exposto ao fogo abrasador de oito olhos brilhantes... eu me sinto arder... juro que tenho sede... eis ali uma fonte... mas, meu deus, é a fonte encantada que descobre os segredos de quem está conosco!...'"
      ]
     },
     "execution_count": 7,
     "metadata": {},
     "output_type": "execute_result"
    }
   ],
   "source": [
    "sumi1(text, 5, True, lemma= True)"
   ]
  },
  {
   "cell_type": "code",
   "execution_count": 8,
   "id": "9b515a18",
   "metadata": {},
   "outputs": [
    {
     "data": {
      "text/plain": [
       "'- e tu, augusto?...- está sabido... augusto não relaxa a patuscada.ambas são bonitinhas, mas, para augusto, d. quinquina tem as feições mais regulares; achou- lhe mesmo muita harmonia nos cabelos louros, olhos azuis e faces coradas, confessando, todavia, que as negras madeixas e rosto romântico de d. joaninha fizeram-lhe uma brecha terrível no coração.- mas... d. carolina... você deu o cavaco?...augusto?...'"
      ]
     },
     "execution_count": 8,
     "metadata": {},
     "output_type": "execute_result"
    }
   ],
   "source": [
    "sumi2(text,5, 3, True)"
   ]
  },
  {
   "cell_type": "code",
   "execution_count": 9,
   "id": "2329ebb5",
   "metadata": {},
   "outputs": [],
   "source": [
    "others = [\"Do_avatar_ao_sujeito_Transicionalidade_e (1).pdf\" , \"SPINOZA, Baruch. Ética.pdf\"]"
   ]
  },
  {
   "cell_type": "code",
   "execution_count": 10,
   "id": "3f1d1f68",
   "metadata": {},
   "outputs": [],
   "source": [
    "def process(path, init = 0):\n",
    "\n",
    "    text = fitz.open(path)\n",
    "    content_list = [text[index].get_text() for index in range(len(text)) if index >= init]\n",
    "    content =  \"\".join(content_list)\n",
    "    return simple_clear(content)"
   ]
  },
  {
   "cell_type": "code",
   "execution_count": 11,
   "id": "4e15f2f5",
   "metadata": {},
   "outputs": [],
   "source": [
    "text_article = process(r'.\\books\\{}'.format(others[0]), init = 10)\n",
    "text_baruch = process(r'.\\books\\{}'.format(others[1]), init = 6)\n"
   ]
  },
  {
   "cell_type": "code",
   "execution_count": 12,
   "id": "4c9d4405",
   "metadata": {},
   "outputs": [],
   "source": [
    "sum_ = [sumi1(text, 5, True) for text in [text_article, text_baruch]]"
   ]
  },
  {
   "cell_type": "code",
   "execution_count": 13,
   "id": "fa7ff6d2",
   "metadata": {},
   "outputs": [],
   "source": [
    "sum_2 = [sumi2(text, 5,  True) for text in [text_article, text_baruch]]"
   ]
  },
  {
   "cell_type": "code",
   "execution_count": 14,
   "id": "90a187ee",
   "metadata": {},
   "outputs": [
    {
     "data": {
      "text/plain": [
       "'[...] ele chora, a água se turva, [...] narciso vê sua imagem dilacerada. [...] você é um mestre, você tá descrevendo uma cena, que nós estamos entrando em um salão todo dourado, tem tapeçaria... bicho, eu não vou entrar no salão, to dando meia curva e to indo para trás, ah então você tá indo para trás o cara tem que inventar na hora o que tá acontecendo. [...] as ilusões não precisam ser necessariamente falsas, ou seja, irrealizáveis, ou em 79 contradição com a realidade [...] podemos, portanto, chamar uma crença de ilusão quando uma realização de desejo constitui fator proeminente em sua motivação e, assim, procedendo, desprezamos suas relações com a realidade, tal como a própria ilusão não dá valor à verificação (p. 43). uma coisa que gosto de fazer é superar os meus limites, mesmo que às vezes eu me quebre um pouco, eu gosto muito de superar os limites, teve uma época que comecei a andar, andava 3 quilômetros, 4 quilômetros, 12 quilômetros, 22 83 quilômetros, [...] era sensação de vitória [...] é uma conquista, é um trofeuzinho, sabe? [..] porque se o time vai precisar.'"
      ]
     },
     "execution_count": 14,
     "metadata": {},
     "output_type": "execute_result"
    }
   ],
   "source": [
    "sum_[0]"
   ]
  },
  {
   "cell_type": "code",
   "execution_count": 15,
   "id": "fcca78c5",
   "metadata": {},
   "outputs": [
    {
     "data": {
      "text/plain": [
       "'ao lado de tantas coisas agradáveis da natureza, devem ter encontrado não poucas que são desagradáveis, como as tempestades, os terremotos, as doenças, etc .. argumentaram, por isso, que essas coisas ocorriam por causa da cólera dos deuses diante das ofensas que lhes tinham sido feitas pelos homens, ou diante das faltas cometidas nos cultos divinos. c. q. d. corolán\"o. a mente poderá considerar como presentes, ainda que não existam nem estejam presentes, aqueles corpos exteriores pelos quais o corpo humano foi uma vez afetado. suponhamos, assim, que exista, em deus, enquanto ele é explicado pela natureza da mente humana, a idéia adequada a. também dessa idéia deve, necessariamente, existir em deus uma idéia, que a ele está referida da mesma maneira que a idéia a (pela prop. i i i i i demonstração. 7 da p. 2) que a ordem e a conexão das coisas e. inversamente, a ordem e a conexão das coisas é o mesmo (pelos corol.'"
      ]
     },
     "execution_count": 15,
     "metadata": {},
     "output_type": "execute_result"
    }
   ],
   "source": [
    "sum_[1]"
   ]
  },
  {
   "cell_type": "code",
   "execution_count": 16,
   "id": "db5eb84d",
   "metadata": {},
   "outputs": [
    {
     "data": {
      "text/plain": [
       "'há, especificamente, o gradual declínio de valores tradicionais e de convenções sociais marcados pela tradição e pelo respeito às normas consagradas; igualmente, há a imediaticidade e o dinamismo cada vez mais presente nas novas relações sociais; e, ainda, há a introdução da cibercultura marcada pela virtual.especificamente, buscou-se refletir sobre o sentido do avatar e do mundo virtual para o sujeito, principalmente no que concerne à constituição do eu e à subjetividade.de forma complementar, foi, ainda, colocado em 1 literalmente, em português: jogo de interpretação de papéis e jogo eletrônico online multijogador em massa do estilo interpretação de papéis, respectivamente.12 evidência o caráter fantástico e ilusório dessas novas possibilidades de experiências a partir de um campo virtual.recorremos, dessa forma, a uma elaboração a potiori [ou seja, com base em seus exemplos extremos ou mais bem definidos], assim como freud o fez ao desenvolver sua teoria com base nas psicopatologias, mas não limitando suas considerações a elas.'"
      ]
     },
     "execution_count": 16,
     "metadata": {},
     "output_type": "execute_result"
    }
   ],
   "source": [
    "sum_2[0]"
   ]
  },
  {
   "cell_type": "code",
   "execution_count": 17,
   "id": "7adfd138",
   "metadata": {},
   "outputs": [
    {
     "data": {
      "text/plain": [
       "'definições 1. por causa de si compreendo aquilo cuja essência envolve a existência, ou seja, aquilo cuja natureza não pode ser concebida senão como existente.2. diz-se finita em seu gênero aquela coisa que pode ser limitada por outra da mesma natureza.3. por substância compreendo aquilo que existe em si mesmo e que por si mesmo é concebido, isto é, aquilo cujo conceito não exige o conceito de outra coisa do qual deva ser formado.6. por deus compreendo um ente absolutamente infinito, isto é, uma substância que consiste de infinitos atributos, cada um dos quais exprime uma essência eterna e infinita.digo absolutamente infinito e não infinito em seu gênero, pois podemos negar infinitos atributos àquilo que é infinito apenas em seu gênero, mas pertence à essência do que é absolutamente infinito tudo aquilo que exprime uma essência e não envolve qualquer negação.'"
      ]
     },
     "execution_count": 17,
     "metadata": {},
     "output_type": "execute_result"
    }
   ],
   "source": [
    "sum_2[1]"
   ]
  },
  {
   "cell_type": "code",
   "execution_count": null,
   "id": "4740346f",
   "metadata": {},
   "outputs": [],
   "source": []
  },
  {
   "cell_type": "code",
   "execution_count": 11,
   "id": "9bdd1ee3",
   "metadata": {},
   "outputs": [],
   "source": [
    "def article (link):\n",
    "    search  = Goose()\n",
    "    return search.extract(link)"
   ]
  },
  {
   "cell_type": "code",
   "execution_count": 12,
   "id": "b88f772b",
   "metadata": {},
   "outputs": [],
   "source": [
    "spy_family = article(\"https://animenew.com.br/spy-x-family-anime-ganha-data-de-estreia/\")\n",
    "massacre = article(\"https://canaltech.com.br/quadrinhos/massacre-a-saga-em-que-o-professor-x-se-tornou-supervilao-na-marvel-210763/\")\n",
    "filmes = article(\"https://canaltech.com.br/entretenimento/filmes-acao-aventura-netflix-em-2022/\")"
   ]
  },
  {
   "cell_type": "code",
   "execution_count": 39,
   "id": "5106fd87",
   "metadata": {},
   "outputs": [],
   "source": []
  },
  {
   "cell_type": "code",
   "execution_count": 50,
   "id": "a39b7ec5",
   "metadata": {},
   "outputs": [
    {
     "data": {
      "text/plain": [
       "'o novo anime spy x family ganhou uma nova ‘imagem promocional’. de acordo com informações, a série vai ser divida em partes, com primeira confirmada para o dia 9 abril. enquanto isso, kazuaki shimada está projetando os personagens, e [k] now_name é o produtor musical. o mestre espião de codinome “twilight” passou seus dias em missões secretas, tudo pelo sonho de um mundo melhor. mas um dia, ele recebe uma nova ordem particularmente difícil da central de comando.'"
      ]
     },
     "execution_count": 50,
     "metadata": {},
     "output_type": "execute_result"
    }
   ],
   "source": [
    "sumi1(spy_family.cleaned_text, 5, True)"
   ]
  },
  {
   "cell_type": "code",
   "execution_count": 51,
   "id": "e4004236",
   "metadata": {},
   "outputs": [
    {
     "data": {
      "text/plain": [
       "'o novo anime spy x family ganhou uma nova ‘imagem promocional’.de acordo com informações, a série vai ser divida em partes, com primeira confirmada para o dia 9 abril.kazuhiro furuhashi está dirigindo o anime nos estúdios wit studio e cloverworks.mas um dia, ele recebe uma nova ordem particularmente difícil da central de comando.para sua missão, ele deve formar uma família temporária e começar uma nova vida?!'"
      ]
     },
     "execution_count": 51,
     "metadata": {},
     "output_type": "execute_result"
    }
   ],
   "source": [
    "sumi2(spy_family.cleaned_text, 5, True)"
   ]
  },
  {
   "cell_type": "code",
   "execution_count": 52,
   "id": "f66b6da6",
   "metadata": {},
   "outputs": [
    {
     "data": {
      "text/plain": [
       "'• o mistério da animação dos x-men que permanece sem resposta desde os anos 1990 com isso, muita gente que não acompanhou na época, no começo dos anos 1990, não compreende muito bem o que aconteceu em uma fase em que ele se tornou um supervilão chamado massacre — ok, sejamos justos, não foi bem o professor x, mas era essa a ideia divulgada no período. como sempre, é preciso contextualizar um pouco aquele período, para que todos possam entender a decisão de a marvel comics tornar o professor x em uma criatura que colocou todo o universo marvel em perigo e, no final do confronto, aparentemente matou todos do quarteto fantástico e dos vingadores. vale destacar que, nesta época, charles xavier vinha se recuperando de problemas em seu corpo e mente — ele até tinha ido se tratar no espaço com tecnologia shi’ar. • assine amazon kindle unlimited por apenas r$ 19,90/mês e tenha acesso a mais de 1 milhão de livros digitais!'"
      ]
     },
     "execution_count": 52,
     "metadata": {},
     "output_type": "execute_result"
    }
   ],
   "source": [
    "sumi1(massacre.cleaned_text, 4, True)"
   ]
  },
  {
   "cell_type": "code",
   "execution_count": 53,
   "id": "1a3db4ae",
   "metadata": {},
   "outputs": [
    {
     "data": {
      "text/plain": [
       "'o professor x tem tido bastante destaque ultimamente.seja por conta de sua possível participação no grupo secreto illuminati, em doutor estranho no multiverso da loucura; ou pela famosa animação noventista que foi confirmada no cânone do universo cinematográfico marvel (mcu, na sigla em inglês) e terá continuação pela própria marvel studios; ou pelo fato de charles xavier andar muito mais proativo e diferente na atual fase dos x-men nos quadrinhos.• o mistério da animação dos x-men que permanece sem resposta desde os anos 1990\\n\\ncom isso, muita gente que não acompanhou na época, no começo dos anos 1990, não compreende muito bem o que aconteceu em uma fase em que ele se tornou um supervilão chamado massacre — ok, sejamos justos, não foi bem o professor x, mas era essa a ideia divulgada no período.como sempre, é preciso contextualizar um pouco aquele período, para que todos possam entender a decisão de a marvel comics tornar o professor x em uma criatura que colocou todo o universo marvel em perigo e, no final do confronto, aparentemente matou todos do quarteto fantástico e dos vingadores.'"
      ]
     },
     "execution_count": 53,
     "metadata": {},
     "output_type": "execute_result"
    }
   ],
   "source": [
    "sumi2(massacre.cleaned_text, 4, True)"
   ]
  },
  {
   "cell_type": "code",
   "execution_count": 13,
   "id": "5bc7af71",
   "metadata": {},
   "outputs": [
    {
     "data": {
      "text/plain": [
       "'afinal, quem não curte dar um play em uma história leve cheia de perseguição, explosões, tiroteio e adrenalina só para dar uma animada naquele fim de semana modorrento? embora não seja necessariamente um filme de ação como a gente imagina, ele tem um dinamismo tão bom em seu roteiro e apresenta um daniel craig em ótima forma para viver um investigador perspicaz que a gente nem sente falta de tiroteios e pancadarias. como o próprio título sugere, é algo relacionado à clonagem, mas poucos detalhes foram dados sobre a trama, o que deixa tudo no ar. basta lembrar que o seu invasão zumbi trouxe um novo ar aos filmes de mortos-vivos, o que faz com que a expectativa para jung_e seja enorme.'"
      ]
     },
     "execution_count": 13,
     "metadata": {},
     "output_type": "execute_result"
    }
   ],
   "source": [
    "sumi1(filmes.cleaned_text, 4, True, True)"
   ]
  },
  {
   "cell_type": "code",
   "execution_count": 14,
   "id": "551a2c93",
   "metadata": {},
   "outputs": [
    {
     "data": {
      "text/plain": [
       "'depois de acumular indicações ao oscar 2022, a netflix parece ter se empolgado com a ideia de trazer lançamentos frequentes à sua plataforma e anunciou um ano repleto de estreias.são dezenas de filmes que chegam à plataforma ao longo dos próximos meses, agradando fãs de diferentes gêneros.• 8 filmes para assistir em família que chegam à netflix em 2022\\n\\ncontudo, a gente sabe que os filmes de ação e aventura são aqueles que realmente ganham o coração do público.se esse for o seu caso, pode respirar aliviado, pois a netflix lançar pelo menos 15 filmes de ação e aventura até dezembro.'"
      ]
     },
     "execution_count": 14,
     "metadata": {},
     "output_type": "execute_result"
    }
   ],
   "source": [
    "sumi2(filmes.cleaned_text, 4, True, True)"
   ]
  },
  {
   "cell_type": "code",
   "execution_count": 16,
   "id": "757ec38e",
   "metadata": {},
   "outputs": [
    {
     "data": {
      "text/plain": [
       "'depois de acumular indicações ao oscar 2022, a netflix parece ter se empolgado com a ideia de trazer lançamentos frequentes à sua plataforma e anunciou um ano repleto de estreias.são dezenas de filmes que chegam à plataforma ao longo dos próximos meses, agradando fãs de diferentes gêneros.• 8 filmes para assistir em família que chegam à netflix em 2022\\n\\ncontudo, a gente sabe que os filmes de ação e aventura são aqueles que realmente ganham o coração do público.se esse for o seu caso, pode respirar aliviado, pois a netflix lançar pelo menos 15 filmes de ação e aventura até dezembro.'"
      ]
     },
     "execution_count": 16,
     "metadata": {},
     "output_type": "execute_result"
    }
   ],
   "source": [
    "sumi2(filmes.cleaned_text, 4, True)"
   ]
  }
 ],
 "metadata": {
  "kernelspec": {
   "display_name": "Python 3 (ipykernel)",
   "language": "python",
   "name": "python3"
  },
  "language_info": {
   "codemirror_mode": {
    "name": "ipython",
    "version": 3
   },
   "file_extension": ".py",
   "mimetype": "text/x-python",
   "name": "python",
   "nbconvert_exporter": "python",
   "pygments_lexer": "ipython3",
   "version": "3.10.2"
  }
 },
 "nbformat": 4,
 "nbformat_minor": 5
}
