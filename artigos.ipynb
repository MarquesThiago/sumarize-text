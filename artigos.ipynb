{
 "cells": [
  {
   "cell_type": "code",
   "execution_count": 2,
   "id": "65f87aed",
   "metadata": {},
   "outputs": [],
   "source": [
    "from goose3 import Goose"
   ]
  },
  {
   "cell_type": "raw",
   "id": "d1f5fe15",
   "metadata": {},
   "source": [
    "https://animenew.com.br/aharen-san-wa-hakarenai-anime-ganha-seu-2o-video-promocional/"
   ]
  },
  {
   "cell_type": "code",
   "execution_count": 5,
   "id": "d4f29c0e",
   "metadata": {},
   "outputs": [],
   "source": [
    "search  = Goose()\n",
    "url = \"https://animenew.com.br/classroom-of-the-elite-vai-ganhar-nova-adaptacao-para-anime/\"\n",
    "arts = search.extract(url)"
   ]
  },
  {
   "cell_type": "code",
   "execution_count": 8,
   "id": "f417dc1a",
   "metadata": {},
   "outputs": [
    {
     "data": {
      "text/plain": [
       "{'meta': {'description': 'Alguns rumores apontam que a light novel de Classroom of the Elite terá uma nova adaptação para anime. De acordo com informações, o anime chegou em julho',\n",
       "  'lang': 'pt',\n",
       "  'keywords': '',\n",
       "  'favicon': 'https://animenew.com.br/wp-content/uploads/2019/12/cropped-animenew.com_.br-512x512-1-2-32x32.jpg',\n",
       "  'canonical': 'https://animenew.com.br/classroom-of-the-elite-vai-ganhar-nova-adaptacao-para-anime/',\n",
       "  'encoding': 'UTF-8'},\n",
       " 'image': None,\n",
       " 'domain': 'animenew.com.br',\n",
       " 'title': '(Rumor) Classroom of the Elite vai ganhar nova adaptação para anime',\n",
       " 'cleaned_text': 'Alguns rumores apontam que a light novel de Classroom of the Elite terá uma nova adaptação para anime. De acordo com informações, o anime chegou em julho de 2017.\\n\\nSendo assim, a primeira temporada teve animação do estúdio Lerche com direção de Seiji Kishi e Hiroyuki Hashimoto.\\n\\nEm um futuro não muito distante, o governo japonês estabeleceu a Tokyo Metropolitan Advanced Nurturing School, dedicada a instruir e formar a geração de pessoas que sustentarão o país no futuro. Os alunos recebem um alto grau de liberdade a fim de imitar a vida real o mais próximo possível. A história segue a perspectiva de Ayanokōji Kiyotaka, um garoto quieto e despretensioso que não é bom em fazer amizades e prefere manter distância. Ele é um estudante de classe D, que é onde a escola despeja seus alunos inferiores.\\n\\nPor fim Classroom of the Elite teve 12 episódios.',\n",
       " 'opengraph': {'locale': 'pt_BR',\n",
       "  'type': 'article',\n",
       "  'title': '(Rumor) Classroom of the Elite vai ganhar nova adaptação para anime - AnimeNew',\n",
       "  'description': 'Alguns rumores apontam que a light novel de Classroom of the Elite terá uma nova adaptação para anime. De acordo com informações, o anime chegou em julho',\n",
       "  'url': 'https://animenew.com.br/classroom-of-the-elite-vai-ganhar-nova-adaptacao-para-anime/',\n",
       "  'site_name': 'AnimeNew',\n",
       "  'article:publisher': 'https://www.facebook.com/animennew',\n",
       "  'article:author': 'https://www.facebook.com/rafaelshinzo',\n",
       "  'article:published_time': '2022-02-20T14:32:24+00:00',\n",
       "  'image': 'https://animenew.com.br/wp-content/uploads/2022/02/Rumor-Classroom-of-the-Elite-vai-ganhar-nova-adaptacao-para-anime.jpg',\n",
       "  'image:width': '740',\n",
       "  'image:height': '400',\n",
       "  'image:type': 'image/jpeg'},\n",
       " 'tags': ['Seiji Kishi',\n",
       "  'Lerche',\n",
       "  'Classroom of the Elite',\n",
       "  'Hiroyuki Hashimoto'],\n",
       " 'tweets': [],\n",
       " 'movies': [],\n",
       " 'links': ['https://animenew.com.br/noticias/light-novel',\n",
       "  'https://animenew.com.br/noticias/animes/'],\n",
       " 'authors': [],\n",
       " 'publish_date': '2022-02-20T14:32:24+00:00'}"
      ]
     },
     "execution_count": 8,
     "metadata": {},
     "output_type": "execute_result"
    }
   ],
   "source": [
    "arts.infos"
   ]
  },
  {
   "cell_type": "code",
   "execution_count": null,
   "id": "88339caa",
   "metadata": {},
   "outputs": [],
   "source": []
  }
 ],
 "metadata": {
  "kernelspec": {
   "display_name": "Python 3 (ipykernel)",
   "language": "python",
   "name": "python3"
  },
  "language_info": {
   "codemirror_mode": {
    "name": "ipython",
    "version": 3
   },
   "file_extension": ".py",
   "mimetype": "text/x-python",
   "name": "python",
   "nbconvert_exporter": "python",
   "pygments_lexer": "ipython3",
   "version": "3.10.2"
  }
 },
 "nbformat": 4,
 "nbformat_minor": 5
}
