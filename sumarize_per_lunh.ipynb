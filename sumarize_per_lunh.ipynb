{
 "cells": [
  {
   "cell_type": "code",
   "execution_count": 6,
   "id": "7aa8f2ad",
   "metadata": {},
   "outputs": [],
   "source": [
    "import re\n",
    "import string\n",
    "import nltk\n",
    "import numpy\n",
    "import spacy"
   ]
  },
  {
   "cell_type": "code",
   "execution_count": 7,
   "id": "64758e04",
   "metadata": {},
   "outputs": [
    {
     "name": "stderr",
     "output_type": "stream",
     "text": [
      "[nltk_data] Downloading package punkt to\n",
      "[nltk_data]     C:\\Users\\thiag\\AppData\\Roaming\\nltk_data...\n",
      "[nltk_data]   Package punkt is already up-to-date!\n"
     ]
    },
    {
     "data": {
      "text/plain": [
       "True"
      ]
     },
     "execution_count": 7,
     "metadata": {},
     "output_type": "execute_result"
    }
   ],
   "source": [
    "nltk.download(\"punkt\")"
   ]
  },
  {
   "cell_type": "markdown",
   "id": "ab1478dd",
   "metadata": {},
   "source": [
    "nltk.download()"
   ]
  },
  {
   "cell_type": "code",
   "execution_count": 8,
   "id": "748bbb73",
   "metadata": {},
   "outputs": [],
   "source": [
    "art_anime = \"O site oficial da adaptação em anime do mangá de comédia romântica Aharen-san wa Hakarenai divulgou o segundo vídeo promocional do mesmo.\\nO vídeo anuncia mais três novos dubladores, apresenta a música tema de abertura do grupo TrySail “Hanarenai Kyori” (Inseparable Distance) e revela a estreia do anime para o dia 1º de abril.\\nSinopse\\nReina Aharen, uma aluna pequena e bonita com uma voz baixa, é muito ruim em determinar distâncias e espaço pessoal. Às vezes ela está a centímetros de seu rosto e, outras vezes, a quilômetros de distância! O único que tenta entender suas travessuras é Raidou Matsuboshi, que está sentado ao lado dela na classe. Ele tem um rosto ameaçador, mas na realidade, ele é um menino gentil com uma imaginação que às vezes pode correr solta. Aharen-san wa Hakarenai segue o estranho par enquanto sua estranha amizade começa a florescer quando Raidou pega a borracha de Aharen para ela. Ela interpreta mal o gesto dele e agora acredita que eles são os melhores amigos, mostrando como as coisas mais simples podem ser os mais complicados dos desafios para eles.\\nAharen-san wa Hakarenai estreará portanto no bloco Animeism nos canais TBS e MBS no dia 1 de abril.\""
   ]
  },
  {
   "cell_type": "code",
   "execution_count": 9,
   "id": "b0de67ac",
   "metadata": {},
   "outputs": [
    {
     "name": "stdout",
     "output_type": "stream",
     "text": [
      "O site oficial da adaptação em anime do mangá de comédia romântica Aharen-san wa Hakarenai divulgou o segundo vídeo promocional do mesmo.\n",
      "O vídeo anuncia mais três novos dubladores, apresenta a música tema de abertura do grupo TrySail “Hanarenai Kyori” (Inseparable Distance) e revela a estreia do anime para o dia 1º de abril.\n",
      "Sinopse\n",
      "Reina Aharen, uma aluna pequena e bonita com uma voz baixa, é muito ruim em determinar distâncias e espaço pessoal. Às vezes ela está a centímetros de seu rosto e, outras vezes, a quilômetros de distância! O único que tenta entender suas travessuras é Raidou Matsuboshi, que está sentado ao lado dela na classe. Ele tem um rosto ameaçador, mas na realidade, ele é um menino gentil com uma imaginação que às vezes pode correr solta. Aharen-san wa Hakarenai segue o estranho par enquanto sua estranha amizade começa a florescer quando Raidou pega a borracha de Aharen para ela. Ela interpreta mal o gesto dele e agora acredita que eles são os melhores amigos, mostrando como as coisas mais simples podem ser os mais complicados dos desafios para eles.\n",
      "Aharen-san wa Hakarenai estreará portanto no bloco Animeism nos canais TBS e MBS no dia 1 de abril.\n"
     ]
    }
   ],
   "source": [
    "print(art_anime)"
   ]
  },
  {
   "cell_type": "code",
   "execution_count": 10,
   "id": "4700ef06",
   "metadata": {},
   "outputs": [],
   "source": [
    "stpwrds = \"a, agora, ainda, alguém, algum, alguma, algumas, alguns, ampla, amplas, amplo, amplos, ante, antes, ao, aos, após, aquela, aquelas, aquele, aqueles, aquilo, as, até, através, cada, coisa, coisas, com, como, contra, contudo, da, daquele, daqueles, das, de, dela, delas, dele, deles, depois, dessa, dessas, desse, desses, desta, destas, deste, deste, destes, deve, devem, devendo, dever, deverá, deverão, deveria, deveriam, devia, deviam, disse, disso, disto, dito, diz, dizem, do, dos, e, é, ela, elas, ele, eles, em, enquanto, entre, era, essa, essas, esse, esses, esta, está, estamos, estão, estas, estava, estavam, estávamos, este, estes, estou, eu, fazendo, fazer, feita, feitas, feito, feitos, foi, for, foram, fosse, fossem, grande, grandes, há, isso, isto, já, la, lá, lhe, lhes, lo, mas, me, mesma, mesmas, mesmo, mesmos, meu, meus, minha, minhas, muita, muitas, muito, muitos, na, não, nas, nem, nenhum, nessa, nessas, nesta, nestas, ninguém, no, nos, nós, nossa, nossas, nosso, nossos, num, numa, nunca, o, os, ou, outra, outras, outro, outros, para, pela, pelas, pelo, pelos, pequena, pequenas, pequeno, pequenos, per, perante, pode, pude, podendo, poder, poderia, poderiam, podia, podiam, pois, por, porém, porque, posso, pouca, poucas, pouco, poucos, primeiro, primeiros, própria, próprias, próprio, próprios, quais, qual, quando, quanto, quantos, que, quem, são, se, seja, sejam, sem, sempre, sendo, será, serão, seu, seus, si, sido, só, sob, sobre, sua, suas, talvez, também, tampouco, te, tem, tendo, tenha, ter, teu, teus, ti, tido, tinha, tinham, toda, todas, todavia, todo, todos, tu, tua, tuas, tudo, última, últimas, último, últimos, um, uma, umas, uns, vendo, ver, vez, vindo, vir, vos, vós\"\n",
    "stop_word = [n.strip() for n  in stpwrds.split(',')] "
   ]
  },
  {
   "cell_type": "code",
   "execution_count": 11,
   "id": "e0153a21",
   "metadata": {},
   "outputs": [
    {
     "data": {
      "text/plain": [
       "255"
      ]
     },
     "execution_count": 11,
     "metadata": {},
     "output_type": "execute_result"
    }
   ],
   "source": [
    "len(stop_word)"
   ]
  },
  {
   "cell_type": "code",
   "execution_count": 12,
   "id": "d1cf39e5",
   "metadata": {},
   "outputs": [
    {
     "data": {
      "text/plain": [
       "['a',\n",
       " 'agora',\n",
       " 'ainda',\n",
       " 'alguém',\n",
       " 'algum',\n",
       " 'alguma',\n",
       " 'algumas',\n",
       " 'alguns',\n",
       " 'ampla',\n",
       " 'amplas',\n",
       " 'amplo',\n",
       " 'amplos',\n",
       " 'ante',\n",
       " 'antes',\n",
       " 'ao',\n",
       " 'aos',\n",
       " 'após',\n",
       " 'aquela',\n",
       " 'aquelas',\n",
       " 'aquele',\n",
       " 'aqueles',\n",
       " 'aquilo',\n",
       " 'as',\n",
       " 'até',\n",
       " 'através',\n",
       " 'cada',\n",
       " 'coisa',\n",
       " 'coisas',\n",
       " 'com',\n",
       " 'como',\n",
       " 'contra',\n",
       " 'contudo',\n",
       " 'da',\n",
       " 'daquele',\n",
       " 'daqueles',\n",
       " 'das',\n",
       " 'de',\n",
       " 'dela',\n",
       " 'delas',\n",
       " 'dele',\n",
       " 'deles',\n",
       " 'depois',\n",
       " 'dessa',\n",
       " 'dessas',\n",
       " 'desse',\n",
       " 'desses',\n",
       " 'desta',\n",
       " 'destas',\n",
       " 'deste',\n",
       " 'deste',\n",
       " 'destes',\n",
       " 'deve',\n",
       " 'devem',\n",
       " 'devendo',\n",
       " 'dever',\n",
       " 'deverá',\n",
       " 'deverão',\n",
       " 'deveria',\n",
       " 'deveriam',\n",
       " 'devia',\n",
       " 'deviam',\n",
       " 'disse',\n",
       " 'disso',\n",
       " 'disto',\n",
       " 'dito',\n",
       " 'diz',\n",
       " 'dizem',\n",
       " 'do',\n",
       " 'dos',\n",
       " 'e',\n",
       " 'é',\n",
       " 'ela',\n",
       " 'elas',\n",
       " 'ele',\n",
       " 'eles',\n",
       " 'em',\n",
       " 'enquanto',\n",
       " 'entre',\n",
       " 'era',\n",
       " 'essa',\n",
       " 'essas',\n",
       " 'esse',\n",
       " 'esses',\n",
       " 'esta',\n",
       " 'está',\n",
       " 'estamos',\n",
       " 'estão',\n",
       " 'estas',\n",
       " 'estava',\n",
       " 'estavam',\n",
       " 'estávamos',\n",
       " 'este',\n",
       " 'estes',\n",
       " 'estou',\n",
       " 'eu',\n",
       " 'fazendo',\n",
       " 'fazer',\n",
       " 'feita',\n",
       " 'feitas',\n",
       " 'feito',\n",
       " 'feitos',\n",
       " 'foi',\n",
       " 'for',\n",
       " 'foram',\n",
       " 'fosse',\n",
       " 'fossem',\n",
       " 'grande',\n",
       " 'grandes',\n",
       " 'há',\n",
       " 'isso',\n",
       " 'isto',\n",
       " 'já',\n",
       " 'la',\n",
       " 'lá',\n",
       " 'lhe',\n",
       " 'lhes',\n",
       " 'lo',\n",
       " 'mas',\n",
       " 'me',\n",
       " 'mesma',\n",
       " 'mesmas',\n",
       " 'mesmo',\n",
       " 'mesmos',\n",
       " 'meu',\n",
       " 'meus',\n",
       " 'minha',\n",
       " 'minhas',\n",
       " 'muita',\n",
       " 'muitas',\n",
       " 'muito',\n",
       " 'muitos',\n",
       " 'na',\n",
       " 'não',\n",
       " 'nas',\n",
       " 'nem',\n",
       " 'nenhum',\n",
       " 'nessa',\n",
       " 'nessas',\n",
       " 'nesta',\n",
       " 'nestas',\n",
       " 'ninguém',\n",
       " 'no',\n",
       " 'nos',\n",
       " 'nós',\n",
       " 'nossa',\n",
       " 'nossas',\n",
       " 'nosso',\n",
       " 'nossos',\n",
       " 'num',\n",
       " 'numa',\n",
       " 'nunca',\n",
       " 'o',\n",
       " 'os',\n",
       " 'ou',\n",
       " 'outra',\n",
       " 'outras',\n",
       " 'outro',\n",
       " 'outros',\n",
       " 'para',\n",
       " 'pela',\n",
       " 'pelas',\n",
       " 'pelo',\n",
       " 'pelos',\n",
       " 'pequena',\n",
       " 'pequenas',\n",
       " 'pequeno',\n",
       " 'pequenos',\n",
       " 'per',\n",
       " 'perante',\n",
       " 'pode',\n",
       " 'pude',\n",
       " 'podendo',\n",
       " 'poder',\n",
       " 'poderia',\n",
       " 'poderiam',\n",
       " 'podia',\n",
       " 'podiam',\n",
       " 'pois',\n",
       " 'por',\n",
       " 'porém',\n",
       " 'porque',\n",
       " 'posso',\n",
       " 'pouca',\n",
       " 'poucas',\n",
       " 'pouco',\n",
       " 'poucos',\n",
       " 'primeiro',\n",
       " 'primeiros',\n",
       " 'própria',\n",
       " 'próprias',\n",
       " 'próprio',\n",
       " 'próprios',\n",
       " 'quais',\n",
       " 'qual',\n",
       " 'quando',\n",
       " 'quanto',\n",
       " 'quantos',\n",
       " 'que',\n",
       " 'quem',\n",
       " 'são',\n",
       " 'se',\n",
       " 'seja',\n",
       " 'sejam',\n",
       " 'sem',\n",
       " 'sempre',\n",
       " 'sendo',\n",
       " 'será',\n",
       " 'serão',\n",
       " 'seu',\n",
       " 'seus',\n",
       " 'si',\n",
       " 'sido',\n",
       " 'só',\n",
       " 'sob',\n",
       " 'sobre',\n",
       " 'sua',\n",
       " 'suas',\n",
       " 'talvez',\n",
       " 'também',\n",
       " 'tampouco',\n",
       " 'te',\n",
       " 'tem',\n",
       " 'tendo',\n",
       " 'tenha',\n",
       " 'ter',\n",
       " 'teu',\n",
       " 'teus',\n",
       " 'ti',\n",
       " 'tido',\n",
       " 'tinha',\n",
       " 'tinham',\n",
       " 'toda',\n",
       " 'todas',\n",
       " 'todavia',\n",
       " 'todo',\n",
       " 'todos',\n",
       " 'tu',\n",
       " 'tua',\n",
       " 'tuas',\n",
       " 'tudo',\n",
       " 'última',\n",
       " 'últimas',\n",
       " 'último',\n",
       " 'últimos',\n",
       " 'um',\n",
       " 'uma',\n",
       " 'umas',\n",
       " 'uns',\n",
       " 'vendo',\n",
       " 'ver',\n",
       " 'vez',\n",
       " 'vindo',\n",
       " 'vir',\n",
       " 'vos',\n",
       " 'vós']"
      ]
     },
     "execution_count": 12,
     "metadata": {},
     "output_type": "execute_result"
    }
   ],
   "source": [
    "stop_word"
   ]
  },
  {
   "cell_type": "code",
   "execution_count": 13,
   "id": "1a422872",
   "metadata": {},
   "outputs": [
    {
     "data": {
      "text/plain": [
       "'!\"#$%&\\'()*+,-./:;<=>?@[\\\\]^_`{|}~'"
      ]
     },
     "execution_count": 13,
     "metadata": {},
     "output_type": "execute_result"
    }
   ],
   "source": [
    "string.punctuation"
   ]
  },
  {
   "cell_type": "code",
   "execution_count": 14,
   "id": "7e6a4ffd",
   "metadata": {},
   "outputs": [],
   "source": [
    "def simple_clear(text):\n",
    "    \n",
    "    ''' \n",
    "    simples clear, elimined space and break lines \n",
    "    :param text: str text\n",
    "    return: str re.sub(r'\\s+',\" \", text.lower())\n",
    "    '''\n",
    "    \n",
    "    return re.sub(r'\\s+',\" \", text.lower())\n",
    "\n",
    "def normalize_text(text, lemma = False):\n",
    "    \n",
    "    ''' \n",
    "    harmonizetion of text,separede text in words, \n",
    "    remove space, simbols and stop word (words not contribuinls to meaning) \n",
    "    :param text: str text\n",
    "    return: list text_harmonization: list fo words harmonizeds \n",
    "    '''\n",
    "    if lemma:\n",
    "        pln = spacy.load(\"pt_core_news_sm\")\n",
    "        tokens = [token.lemma_ for token in pln(text) \n",
    "                  if str(token) not in stop_word \n",
    "                  and str(token) not in string.punctuation \n",
    "                  and not str(token).isdigit()]\n",
    "    else:\n",
    "        tokens = nltk.word_tokenize(text.lower(), language=\"Portuguese\")\n",
    "    \n",
    "    text_harmonization = [word for word  in tokens if word not in stop_word and word not in string.punctuation and not word.isdigit()]  \n",
    "    return text_harmonization"
   ]
  },
  {
   "cell_type": "code",
   "execution_count": 15,
   "id": "61f0b18f",
   "metadata": {},
   "outputs": [],
   "source": [
    "harmonized_words = normalize_text(art_anime)"
   ]
  },
  {
   "cell_type": "code",
   "execution_count": 16,
   "id": "c2689bf7",
   "metadata": {},
   "outputs": [
    {
     "data": {
      "text/plain": [
       "'site oficial adaptação anime mangá comédia romântica aharen-san wa hakarenai divulgou segundo vídeo promocional vídeo anuncia mais três novos dubladores apresenta música tema abertura grupo trysail “ hanarenai kyori ” inseparable distance revela estreia anime dia 1º abril sinopse reina aharen aluna bonita voz baixa ruim determinar distâncias espaço pessoal às vezes centímetros rosto vezes quilômetros distância único tenta entender travessuras raidou matsuboshi sentado lado classe rosto ameaçador realidade menino gentil imaginação às vezes correr solta aharen-san wa hakarenai segue estranho par estranha amizade começa florescer raidou pega borracha aharen interpreta mal gesto acredita melhores amigos mostrando mais simples podem ser mais complicados desafios aharen-san wa hakarenai estreará portanto bloco animeism canais tbs mbs dia abril'"
      ]
     },
     "execution_count": 16,
     "metadata": {},
     "output_type": "execute_result"
    }
   ],
   "source": [
    "harmonized_text = \" \".join(harmonized_words)\n",
    "harmonized_text"
   ]
  },
  {
   "cell_type": "code",
   "execution_count": null,
   "id": "888cc894",
   "metadata": {},
   "outputs": [],
   "source": []
  },
  {
   "cell_type": "markdown",
   "id": "f67da364",
   "metadata": {},
   "source": [
    "# Calculo de Lunh \n",
    "## calculo das notas "
   ]
  },
  {
   "cell_type": "code",
   "execution_count": 17,
   "id": "17af66d9",
   "metadata": {},
   "outputs": [],
   "source": [
    "def check_index(phrase, word):\n",
    "    '''\n",
    "    check index in phrase and return or index of words in a list \n",
    "    :param list phrase: \n",
    "    :param str  word\n",
    "    return: int phrase.index(word)| None\n",
    "    '''\n",
    "    \n",
    "    try:\n",
    "        return phrase.index(word)\n",
    "    except:\n",
    "        pass"
   ]
  },
  {
   "cell_type": "code",
   "execution_count": 18,
   "id": "b404135b",
   "metadata": {},
   "outputs": [],
   "source": [
    "def sepeared_words_sent(sentences):\n",
    "    \n",
    "    '''  \n",
    "    separeds in list of words on list of sentences and \n",
    "    return list of words in sentences per sentences \n",
    "    :param sentences: list\n",
    "    return list [nltk.word_tokenize(sentence.lower()) for sentence in sentences ];'''\n",
    "    \n",
    "    return  [nltk.word_tokenize(sentence.lower()) for sentence in sentences ]"
   ]
  },
  {
   "cell_type": "code",
   "execution_count": 19,
   "id": "a32d2eac",
   "metadata": {},
   "outputs": [],
   "source": [
    "def define_index(sentences, import_words):\n",
    "    \n",
    "    '''\n",
    "    Check in list if exists importants words and\n",
    "    return list of index per sentences \n",
    "    :param sentences: list \n",
    "    :param import_words: list\n",
    "    :return list index:\n",
    "    '''\n",
    "    index = []\n",
    "    \n",
    "    sentences_sep_words = sepeared_words_sent(sentences)\n",
    "    for sentence in sentences_sep_words:\n",
    "        check = [check_index(sentence, word) for word in import_words]\n",
    "        index_ = [index for index in check if not index == None]\n",
    "        index.append(sorted(index_))\n",
    "        \n",
    "    return index"
   ]
  },
  {
   "cell_type": "code",
   "execution_count": 20,
   "id": "114e9467",
   "metadata": {},
   "outputs": [],
   "source": [
    "def define_group(index, distance):\n",
    "\n",
    "    '''\n",
    "    create subgroups in the matrix of indexes, considering the distance between index.\n",
    "    :param index : list -> matrix of the index\n",
    "    :param distance: int -> parameter distance between index\n",
    "    :return list listed:\n",
    "    '''\n",
    "    \n",
    "    listed = []\n",
    "    \n",
    "    for group in index:\n",
    "        if len(group) == 0:\n",
    "            listed.append([])\n",
    "            continue\n",
    "        \n",
    "        list_group = []\n",
    "        sub_group = [group[0]]\n",
    "        num = 1\n",
    "        \n",
    "       \n",
    "        while num < len(group):\n",
    "            if group[num] - group[num-1] < distance:\n",
    "                sub_group.append(group[num])\n",
    "                \n",
    "            else:\n",
    "                list_group.append(sub_group[:])\n",
    "                sub_group = [group[num]] \n",
    "            num += 1\n",
    "        \n",
    "        list_group.append(sub_group)\n",
    "        listed.append(list_group)\n",
    "        \n",
    "    return listed"
   ]
  },
  {
   "cell_type": "code",
   "execution_count": 21,
   "id": "6bfc94b0",
   "metadata": {},
   "outputs": [],
   "source": [
    "def calc(listed):\n",
    "    \n",
    "    '''\n",
    "    applied calculation grade for matrix of the index and return a list of the grades\n",
    "    :param listed:list matrix with subgroup of the index\n",
    "    :return list grades:\n",
    "    '''\n",
    "    \n",
    "    grades = []\n",
    "    \n",
    "    for index in range(0,len(listed)):\n",
    "        if len(listed[index]) == 0:\n",
    "            grades.append((index, 0))\n",
    "            continue\n",
    "        \n",
    "        minimum = 0   \n",
    "        for n_group in listed[index]:\n",
    "            \n",
    "            import_word = len(n_group)\n",
    "            total_words = n_group[-1] - n_group[0] + 1 \n",
    "            grade =  1.0 * import_word**2 / total_words\n",
    "            \n",
    "            if minimum < grade:\n",
    "                minimum = grade\n",
    "        \n",
    "        \n",
    "        grades.append((index, minimum))\n",
    "    return grades\n",
    "        \n",
    "           "
   ]
  },
  {
   "cell_type": "code",
   "execution_count": 22,
   "id": "009ce584",
   "metadata": {},
   "outputs": [],
   "source": [
    "def calc_note(sentences, import_words, distance):\n",
    "    \n",
    "    '''  \n",
    "    calculate grade per sentences, from the algoritm of the lunh\n",
    "    :param sentences list \n",
    "    :param import_words: list -> important words in text \n",
    "    :param distance: int -> distance to created groups used in calculate of grade\n",
    "    :return calc(ocorrency) list '''\n",
    "    \n",
    "    index =  define_index(sentences, import_words)\n",
    "    ocorrency = define_group(index, distance)\n",
    "    return calc(ocorrency)"
   ]
  },
  {
   "cell_type": "code",
   "execution_count": null,
   "id": "6c948b6e",
   "metadata": {},
   "outputs": [],
   "source": []
  },
  {
   "cell_type": "markdown",
   "id": "d37fe5ef",
   "metadata": {},
   "source": [
    "## sumarização de texto "
   ]
  },
  {
   "cell_type": "code",
   "execution_count": 23,
   "id": "b1186113",
   "metadata": {},
   "outputs": [],
   "source": [
    "def variables(text, rank):\n",
    "    \n",
    "    '''  \n",
    "    create aariables for use in calculate of the lunh, starting by text and number of ranking \n",
    "    created variables in function \n",
    "    tokens: separed text in sentences, setence_clear: applied cleaning in sentences (remove break line,stop words and others), \n",
    "    all_words list of the all words in text (aren't stop words) and rank:  n words, most used in text  \n",
    "    :param text: str \n",
    "    :param rank: int -> number to return of words most commons in text\n",
    "    :return dict {\"tokens\": tokens, \"sentence_clear\": clear_sentency, \"all_words\": words, \"rank\": rank_words}'''\n",
    "    \n",
    "    tokens= nltk.sent_tokenize(text.lower(), language = \"Portuguese\")\n",
    "    clear_sentency = [\" \".join(normalize_text(sentency, lemma = True)) for sentency in tokens]\n",
    "    words = nltk.word_tokenize(\" \".join(clear_sentency), language = \"Portuguese\")\n",
    "    frenquency = nltk.FreqDist(words)\n",
    "    rank_words = [target[0] for target in frenquency.most_common(rank)]\n",
    "    return  {\"tokens\": tokens, \"sentence_clear\": clear_sentency, \"all_words\": words, \"rank\": rank_words}"
   ]
  },
  {
   "cell_type": "code",
   "execution_count": 24,
   "id": "c9975b54",
   "metadata": {},
   "outputs": [],
   "source": [
    "var = variables(art_anime, 6)"
   ]
  },
  {
   "cell_type": "code",
   "execution_count": 111,
   "id": "50453668",
   "metadata": {
    "scrolled": true
   },
   "outputs": [],
   "source": [
    "note = calc_note(var[\"sentence_clear\"], var[\"rank\"], 3 )"
   ]
  },
  {
   "cell_type": "markdown",
   "id": "a25d8cd0",
   "metadata": {},
   "source": [
    "### rankeamento notas "
   ]
  },
  {
   "cell_type": "code",
   "execution_count": 112,
   "id": "ccb9380f",
   "metadata": {},
   "outputs": [],
   "source": [
    "def sumarize(tokens, notes, limit, order = False):\n",
    "    \n",
    "    '''  \n",
    "    applied notes to the sentences and return more high notes\n",
    "    :param tokens: list -> list of the sentences \n",
    "    :param notes: list -> list of the grede per sentences \n",
    "    :param limit: number -> limit of the sentences returned\n",
    "    :param order: bool -> important order of the text\n",
    "    :return str text: \n",
    "    '''\n",
    "    rankeament = sorted(notes, key = lambda x: x[1], reverse = True)\n",
    "    \n",
    "    if order: \n",
    "        rankeament = sorted(rankeament[:limit], key = lambda x: x[0], reverse = False)\n",
    "        \n",
    "    text = [tokens[target[0]] for target in rankeament[:limit]]\n",
    "    return text "
   ]
  },
  {
   "cell_type": "code",
   "execution_count": 113,
   "id": "3144f184",
   "metadata": {},
   "outputs": [
    {
     "data": {
      "text/plain": [
       "['site oficial adaptação animar mangar comédia romântico aharen-san wa hakarenai divulgar segundar vídeo promocional',\n",
       " 'vídeo anunciar mais três novo dubladores apresentar músico temer abertura grupar trysail “ hanarenai kyori ” inseparable distance revelar estrear animar dia 1º abril',\n",
       " 'às vezar centímetro rostir vezar quilômetros distância',\n",
       " 'rostir ameaçador realidade menino gentil imaginação às vezar correr solto',\n",
       " 'aharen-san wa hakarenai seguir estranhar par estranho amizade comedir florescer raidou pego borracho aharen',\n",
       " 'aharen-san wa hakarenai estrear portanto bloco animeism canal tbs mbs dia abril']"
      ]
     },
     "execution_count": 113,
     "metadata": {},
     "output_type": "execute_result"
    }
   ],
   "source": [
    "sumarize(var[\"sentence_clear\"], note, 6, True)"
   ]
  },
  {
   "cell_type": "code",
   "execution_count": 114,
   "id": "3e700859",
   "metadata": {},
   "outputs": [
    {
     "data": {
      "text/plain": [
       "['o site oficial da adaptação em anime do mangá de comédia romântica aharen-san wa hakarenai divulgou o segundo vídeo promocional do mesmo.',\n",
       " 'aharen-san wa hakarenai segue o estranho par enquanto sua estranha amizade começa a florescer quando raidou pega a borracha de aharen para ela.',\n",
       " 'aharen-san wa hakarenai estreará portanto no bloco animeism nos canais tbs e mbs no dia 1 de abril.',\n",
       " 'o vídeo anuncia mais três novos dubladores, apresenta a música tema de abertura do grupo trysail “hanarenai kyori” (inseparable distance) e revela a estreia do anime para o dia 1º de abril.',\n",
       " 'às vezes ela está a centímetros de seu rosto e, outras vezes, a quilômetros de distância!',\n",
       " 'ele tem um rosto ameaçador, mas na realidade, ele é um menino gentil com uma imaginação que às vezes pode correr solta.']"
      ]
     },
     "execution_count": 114,
     "metadata": {},
     "output_type": "execute_result"
    }
   ],
   "source": [
    "sumarize(var[\"tokens\"], note, 6)"
   ]
  },
  {
   "cell_type": "code",
   "execution_count": null,
   "id": "46376f8b",
   "metadata": {},
   "outputs": [],
   "source": []
  },
  {
   "cell_type": "code",
   "execution_count": 115,
   "id": "f82e143b",
   "metadata": {},
   "outputs": [],
   "source": [
    "def sumarize_by_luhn(text, n = 5, distanc = 3, order = False):\n",
    "\n",
    "    var = variables(text, n)\n",
    "    note = calc_note(var[\"sentence_clear\"], var[\"rank\"], distanc )\n",
    "    return \"\".join(sumarize(var[\"tokens\"], note, n, order))\n",
    "    "
   ]
  },
  {
   "cell_type": "code",
   "execution_count": 116,
   "id": "0d0819ea",
   "metadata": {},
   "outputs": [
    {
     "data": {
      "text/plain": [
       "'o site oficial da adaptação em anime do mangá de comédia romântica aharen-san wa hakarenai divulgou o segundo vídeo promocional do mesmo.aharen-san wa hakarenai segue o estranho par enquanto sua estranha amizade começa a florescer quando raidou pega a borracha de aharen para ela.aharen-san wa hakarenai estreará portanto no bloco animeism nos canais tbs e mbs no dia 1 de abril.o vídeo anuncia mais três novos dubladores, apresenta a música tema de abertura do grupo trysail “hanarenai kyori” (inseparable distance) e revela a estreia do anime para o dia 1º de abril.às vezes ela está a centímetros de seu rosto e, outras vezes, a quilômetros de distância!'"
      ]
     },
     "execution_count": 116,
     "metadata": {},
     "output_type": "execute_result"
    }
   ],
   "source": [
    "sumarize_by_luhn(art_anime, n = 5)"
   ]
  },
  {
   "cell_type": "code",
   "execution_count": null,
   "id": "a128deac",
   "metadata": {},
   "outputs": [],
   "source": []
  },
  {
   "cell_type": "code",
   "execution_count": 1,
   "id": "276fad1c",
   "metadata": {},
   "outputs": [
    {
     "name": "stderr",
     "output_type": "stream",
     "text": [
      "[nltk_data] Downloading package punkt to\n",
      "[nltk_data]     C:\\Users\\thiag\\AppData\\Roaming\\nltk_data...\n",
      "[nltk_data]   Package punkt is already up-to-date!\n"
     ]
    }
   ],
   "source": [
    "from sumariza import sumarize_by_luhn as sumi "
   ]
  },
  {
   "cell_type": "code",
   "execution_count": 3,
   "id": "da56db34",
   "metadata": {},
   "outputs": [
    {
     "data": {
      "text/plain": [
       "'o site oficial da adaptação em anime do mangá de comédia romântica aharen-san wa hakarenai divulgou o segundo vídeo promocional do mesmo.aharen-san wa hakarenai segue o estranho par enquanto sua estranha amizade começa a florescer quando raidou pega a borracha de aharen para ela.aharen-san wa hakarenai estreará portanto no bloco animeism nos canais tbs e mbs no dia 1 de abril.o vídeo anuncia mais três novos dubladores, apresenta a música tema de abertura do grupo trysail “hanarenai kyori” (inseparable distance) e revela a estreia do anime para o dia 1º de abril.às vezes ela está a centímetros de seu rosto e, outras vezes, a quilômetros de distância!ele tem um rosto ameaçador, mas na realidade, ele é um menino gentil com uma imaginação que às vezes pode correr solta.'"
      ]
     },
     "execution_count": 3,
     "metadata": {},
     "output_type": "execute_result"
    }
   ],
   "source": [
    "sumi(art_anime, 6, 2, lemma = True)"
   ]
  },
  {
   "cell_type": "code",
   "execution_count": null,
   "id": "8530f7b1",
   "metadata": {},
   "outputs": [],
   "source": []
  }
 ],
 "metadata": {
  "kernelspec": {
   "display_name": "Python 3 (ipykernel)",
   "language": "python",
   "name": "python3"
  },
  "language_info": {
   "codemirror_mode": {
    "name": "ipython",
    "version": 3
   },
   "file_extension": ".py",
   "mimetype": "text/x-python",
   "name": "python",
   "nbconvert_exporter": "python",
   "pygments_lexer": "ipython3",
   "version": "3.10.2"
  }
 },
 "nbformat": 4,
 "nbformat_minor": 5
}
