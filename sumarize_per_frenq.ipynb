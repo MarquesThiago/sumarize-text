{
 "cells": [
  {
   "cell_type": "code",
   "execution_count": 92,
   "id": "7aa8f2ad",
   "metadata": {},
   "outputs": [],
   "source": [
    "import re\n",
    "import string\n",
    "import nltk\n",
    "import spacy"
   ]
  },
  {
   "cell_type": "code",
   "execution_count": 110,
   "id": "ee1a0de7",
   "metadata": {},
   "outputs": [
    {
     "name": "stdout",
     "output_type": "stream",
     "text": [
      "False\n",
      "False\n",
      "False\n",
      "True\n",
      "False\n",
      "True\n",
      "False\n",
      "True\n",
      "False\n",
      "True\n",
      "False\n",
      "False\n",
      "False\n",
      "False\n",
      "False\n",
      "False\n",
      "True\n",
      "False\n",
      "False\n",
      "False\n",
      "True\n",
      "True\n",
      "False\n",
      "False\n",
      "False\n",
      "False\n",
      "False\n",
      "False\n",
      "False\n",
      "False\n",
      "False\n",
      "False\n",
      "False\n",
      "True\n",
      "False\n",
      "False\n",
      "True\n",
      "False\n",
      "True\n",
      "False\n",
      "False\n",
      "False\n",
      "False\n",
      "False\n",
      "False\n",
      "False\n",
      "False\n",
      "False\n",
      "False\n",
      "True\n",
      "False\n",
      "True\n",
      "False\n",
      "True\n",
      "False\n",
      "True\n",
      "True\n",
      "False\n",
      "False\n",
      "True\n",
      "False\n",
      "False\n",
      "False\n",
      "False\n",
      "False\n",
      "False\n",
      "False\n",
      "False\n",
      "True\n",
      "False\n",
      "True\n",
      "True\n",
      "False\n",
      "True\n",
      "True\n",
      "False\n",
      "False\n",
      "False\n",
      "True\n",
      "True\n",
      "False\n",
      "True\n",
      "False\n",
      "False\n",
      "True\n",
      "False\n",
      "False\n",
      "False\n",
      "False\n",
      "False\n",
      "True\n",
      "True\n",
      "True\n",
      "False\n",
      "True\n",
      "True\n",
      "False\n",
      "True\n",
      "False\n",
      "True\n",
      "False\n",
      "False\n",
      "True\n",
      "False\n",
      "True\n",
      "False\n",
      "False\n",
      "False\n",
      "False\n",
      "True\n",
      "False\n",
      "False\n",
      "True\n",
      "False\n",
      "True\n",
      "False\n",
      "False\n",
      "False\n",
      "True\n",
      "True\n",
      "False\n",
      "True\n",
      "False\n",
      "True\n",
      "True\n",
      "False\n",
      "False\n",
      "False\n",
      "True\n",
      "True\n",
      "False\n",
      "False\n",
      "False\n",
      "True\n",
      "True\n",
      "False\n",
      "False\n",
      "True\n",
      "True\n",
      "True\n",
      "False\n",
      "False\n",
      "True\n",
      "True\n",
      "False\n",
      "True\n",
      "False\n",
      "False\n",
      "True\n",
      "False\n",
      "False\n",
      "False\n",
      "False\n",
      "False\n",
      "False\n",
      "False\n",
      "True\n",
      "False\n",
      "False\n",
      "True\n",
      "True\n",
      "False\n",
      "False\n",
      "False\n",
      "True\n",
      "False\n",
      "True\n",
      "False\n",
      "False\n",
      "True\n",
      "False\n",
      "True\n",
      "False\n",
      "True\n",
      "True\n",
      "False\n",
      "False\n",
      "False\n",
      "False\n",
      "True\n",
      "False\n",
      "True\n",
      "True\n",
      "True\n",
      "False\n",
      "True\n",
      "True\n",
      "True\n",
      "True\n",
      "False\n",
      "False\n",
      "False\n",
      "False\n",
      "True\n",
      "True\n",
      "True\n",
      "False\n",
      "False\n",
      "False\n",
      "False\n",
      "True\n",
      "False\n",
      "False\n",
      "True\n",
      "False\n",
      "True\n",
      "True\n",
      "False\n",
      "False\n",
      "False\n",
      "False\n",
      "False\n",
      "False\n",
      "False\n",
      "True\n",
      "False\n",
      "False\n",
      "True\n",
      "False\n",
      "False\n",
      "True\n",
      "False\n",
      "True\n",
      "False\n",
      "False\n",
      "True\n",
      "False\n",
      "False\n"
     ]
    }
   ],
   "source": []
  },
  {
   "cell_type": "code",
   "execution_count": 113,
   "id": "eab9c7b9",
   "metadata": {},
   "outputs": [
    {
     "name": "stdout",
     "output_type": "stream",
     "text": [
      "['O', 'site', 'oficial', 'adaptação', 'animar', 'mangar', 'comédia', 'romântico', 'Aharen-san', 'wa', 'Hakarenai', 'divulgar', 'segundar', 'vídeo', 'promocional', '\\n', 'O', 'vídeo', 'anunciar', 'mais', 'três', 'novo', 'dubladores', 'apresentar', 'músico', 'temer', 'abertura', 'grupar', 'TrySail', '“', 'Hanarenai', 'Kyori', '”', 'Inseparable', 'Distance', 'revelar', 'estrear', 'animar', 'dia', '1º', 'abril', '\\n', 'Sinopse', '\\n', 'Reina', 'Aharen', 'aluno', 'bonito', 'voz', 'baixo', 'ruim', 'determinar', 'distância', 'espaçar', 'pessoal', 'Às', 'vezar', 'centímetro', 'rostir', 'vezar', 'quilômetros', 'distância', 'O', 'único', 'tentar', 'entender', 'travessura', 'Raidou', 'Matsuboshi', 'sentar', 'lado', 'classe', 'Ele', 'rostir', 'ameaçador', 'realidade', 'menino', 'gentil', 'imaginação', 'às', 'vezar', 'correr', 'solto', 'Aharen-san', 'wa', 'Hakarenai', 'seguir', 'estranhar', 'par', 'estranho', 'amizade', 'comedir', 'florescer', 'Raidou', 'pego', 'borracho', 'Aharen', 'Ela', 'interpretar', 'mal', 'gesto', 'acreditar', 'melhorar', 'amigo', 'mostrar', 'mais', 'simples', 'poder', 'ser', 'mais', 'complicar', 'desafio', '\\n', 'Aharen-san', 'wa', 'Hakarenai', 'estrear', 'portanto', 'bloco', 'Animeism', 'canal', 'TBS', 'MBS', 'dia', 'abril']\n"
     ]
    }
   ],
   "source": [
    "if True:\n",
    "    pln = spacy.load('pt_core_news_sm')\n",
    "    tokens = [token.lemma_ for token in pln(art_anime) if str(token) not in stop_word and str(token) not in string.punctuation and not str(token).isdigit()]\n",
    "    print(tokens)"
   ]
  },
  {
   "cell_type": "code",
   "execution_count": 8,
   "id": "64758e04",
   "metadata": {},
   "outputs": [
    {
     "name": "stderr",
     "output_type": "stream",
     "text": [
      "[nltk_data] Downloading package punkt to\n",
      "[nltk_data]     C:\\Users\\thiag\\AppData\\Roaming\\nltk_data...\n",
      "[nltk_data]   Package punkt is already up-to-date!\n"
     ]
    },
    {
     "data": {
      "text/plain": [
       "True"
      ]
     },
     "execution_count": 8,
     "metadata": {},
     "output_type": "execute_result"
    }
   ],
   "source": [
    "nltk.download(\"punkt\")"
   ]
  },
  {
   "cell_type": "markdown",
   "id": "17a6b8ca",
   "metadata": {},
   "source": [
    "nltk.download()"
   ]
  },
  {
   "cell_type": "code",
   "execution_count": 96,
   "id": "748bbb73",
   "metadata": {},
   "outputs": [],
   "source": [
    "art_anime = \"O site oficial da adaptação em anime do mangá de comédia romântica Aharen-san wa Hakarenai divulgou o segundo vídeo promocional do mesmo.\\nO vídeo anuncia mais três novos dubladores, apresenta a música tema de abertura do grupo TrySail “Hanarenai Kyori” (Inseparable Distance) e revela a estreia do anime para o dia 1º de abril.\\nSinopse\\nReina Aharen, uma aluna pequena e bonita com uma voz baixa, é muito ruim em determinar distâncias e espaço pessoal. Às vezes ela está a centímetros de seu rosto e, outras vezes, a quilômetros de distância! O único que tenta entender suas travessuras é Raidou Matsuboshi, que está sentado ao lado dela na classe. Ele tem um rosto ameaçador, mas na realidade, ele é um menino gentil com uma imaginação que às vezes pode correr solta. Aharen-san wa Hakarenai segue o estranho par enquanto sua estranha amizade começa a florescer quando Raidou pega a borracha de Aharen para ela. Ela interpreta mal o gesto dele e agora acredita que eles são os melhores amigos, mostrando como as coisas mais simples podem ser os mais complicados dos desafios para eles.\\nAharen-san wa Hakarenai estreará portanto no bloco Animeism nos canais TBS e MBS no dia 1 de abril.\""
   ]
  },
  {
   "cell_type": "code",
   "execution_count": 10,
   "id": "b0de67ac",
   "metadata": {},
   "outputs": [
    {
     "name": "stdout",
     "output_type": "stream",
     "text": [
      "O site oficial da adaptação em anime do mangá de comédia romântica Aharen-san wa Hakarenai divulgou o segundo vídeo promocional do mesmo.\n",
      "O vídeo anuncia mais três novos dubladores, apresenta a música tema de abertura do grupo TrySail “Hanarenai Kyori” (Inseparable Distance) e revela a estreia do anime para o dia 1º de abril.\n",
      "Sinopse\n",
      "Reina Aharen, uma aluna pequena e bonita com uma voz baixa, é muito ruim em determinar distâncias e espaço pessoal. Às vezes ela está a centímetros de seu rosto e, outras vezes, a quilômetros de distância! O único que tenta entender suas travessuras é Raidou Matsuboshi, que está sentado ao lado dela na classe. Ele tem um rosto ameaçador, mas na realidade, ele é um menino gentil com uma imaginação que às vezes pode correr solta. Aharen-san wa Hakarenai segue o estranho par enquanto sua estranha amizade começa a florescer quando Raidou pega a borracha de Aharen para ela. Ela interpreta mal o gesto dele e agora acredita que eles são os melhores amigos, mostrando como as coisas mais simples podem ser os mais complicados dos desafios para eles.\n",
      "Aharen-san wa Hakarenai estreará portanto no bloco Animeism nos canais TBS e MBS no dia 1 de abril.\n"
     ]
    }
   ],
   "source": [
    "print(art_anime)"
   ]
  },
  {
   "cell_type": "code",
   "execution_count": 108,
   "id": "4700ef06",
   "metadata": {},
   "outputs": [],
   "source": [
    "stpwrds = \"a, agora, ainda, alguém, algum, alguma, algumas, alguns, ampla, amplas, amplo, amplos, ante, antes, ao, aos, após, aquela, aquelas, aquele, aqueles, aquilo, as, até, através, cada, coisa, coisas, com, como, contra, contudo, da, daquele, daqueles, das, de, dela, delas, dele, deles, depois, dessa, dessas, desse, desses, desta, destas, deste, deste, destes, deve, devem, devendo, dever, deverá, deverão, deveria, deveriam, devia, deviam, disse, disso, disto, dito, diz, dizem, do, dos, e, é, ela, elas, ele, eles, em, enquanto, entre, era, essa, essas, esse, esses, esta, está, estamos, estão, estas, estava, estavam, estávamos, este, estes, estou, eu, fazendo, fazer, feita, feitas, feito, feitos, foi, for, foram, fosse, fossem, grande, grandes, há, isso, isto, já, la, lá, lhe, lhes, lo, mas, me, mesma, mesmas, mesmo, mesmos, meu, meus, minha, minhas, muita, muitas, muito, muitos, na, não, nas, nem, nenhum, nessa, nessas, nesta, nestas, ninguém, no, nos, nós, nossa, nossas, nosso, nossos, num, numa, nunca, o, os, ou, outra, outras, outro, outros, para, pela, pelas, pelo, pelos, pequena, pequenas, pequeno, pequenos, per, perante, pode, pude, podendo, poder, poderia, poderiam, podia, podiam, pois, por, porém, porque, posso, pouca, poucas, pouco, poucos, primeiro, primeiros, própria, próprias, próprio, próprios, quais, qual, quando, quanto, quantos, que, quem, são, se, seja, sejam, sem, sempre, sendo, será, serão, seu, seus, si, sido, só, sob, sobre, sua, suas, talvez, também, tampouco, te, tem, tendo, tenha, ter, teu, teus, ti, tido, tinha, tinham, toda, todas, todavia, todo, todos, tu, tua, tuas, tudo, última, últimas, último, últimos, um, uma, umas, uns, vendo, ver, vez, vindo, vir, vos, vós\"\n",
    "stop_word = [n.strip() for n  in stpwrds.split(',')] "
   ]
  },
  {
   "cell_type": "code",
   "execution_count": 12,
   "id": "e0153a21",
   "metadata": {},
   "outputs": [
    {
     "data": {
      "text/plain": [
       "255"
      ]
     },
     "execution_count": 12,
     "metadata": {},
     "output_type": "execute_result"
    }
   ],
   "source": [
    "len(stop_word)"
   ]
  },
  {
   "cell_type": "code",
   "execution_count": 13,
   "id": "d1cf39e5",
   "metadata": {},
   "outputs": [
    {
     "data": {
      "text/plain": [
       "['a',\n",
       " 'agora',\n",
       " 'ainda',\n",
       " 'alguém',\n",
       " 'algum',\n",
       " 'alguma',\n",
       " 'algumas',\n",
       " 'alguns',\n",
       " 'ampla',\n",
       " 'amplas',\n",
       " 'amplo',\n",
       " 'amplos',\n",
       " 'ante',\n",
       " 'antes',\n",
       " 'ao',\n",
       " 'aos',\n",
       " 'após',\n",
       " 'aquela',\n",
       " 'aquelas',\n",
       " 'aquele',\n",
       " 'aqueles',\n",
       " 'aquilo',\n",
       " 'as',\n",
       " 'até',\n",
       " 'através',\n",
       " 'cada',\n",
       " 'coisa',\n",
       " 'coisas',\n",
       " 'com',\n",
       " 'como',\n",
       " 'contra',\n",
       " 'contudo',\n",
       " 'da',\n",
       " 'daquele',\n",
       " 'daqueles',\n",
       " 'das',\n",
       " 'de',\n",
       " 'dela',\n",
       " 'delas',\n",
       " 'dele',\n",
       " 'deles',\n",
       " 'depois',\n",
       " 'dessa',\n",
       " 'dessas',\n",
       " 'desse',\n",
       " 'desses',\n",
       " 'desta',\n",
       " 'destas',\n",
       " 'deste',\n",
       " 'deste',\n",
       " 'destes',\n",
       " 'deve',\n",
       " 'devem',\n",
       " 'devendo',\n",
       " 'dever',\n",
       " 'deverá',\n",
       " 'deverão',\n",
       " 'deveria',\n",
       " 'deveriam',\n",
       " 'devia',\n",
       " 'deviam',\n",
       " 'disse',\n",
       " 'disso',\n",
       " 'disto',\n",
       " 'dito',\n",
       " 'diz',\n",
       " 'dizem',\n",
       " 'do',\n",
       " 'dos',\n",
       " 'e',\n",
       " 'é',\n",
       " 'ela',\n",
       " 'elas',\n",
       " 'ele',\n",
       " 'eles',\n",
       " 'em',\n",
       " 'enquanto',\n",
       " 'entre',\n",
       " 'era',\n",
       " 'essa',\n",
       " 'essas',\n",
       " 'esse',\n",
       " 'esses',\n",
       " 'esta',\n",
       " 'está',\n",
       " 'estamos',\n",
       " 'estão',\n",
       " 'estas',\n",
       " 'estava',\n",
       " 'estavam',\n",
       " 'estávamos',\n",
       " 'este',\n",
       " 'estes',\n",
       " 'estou',\n",
       " 'eu',\n",
       " 'fazendo',\n",
       " 'fazer',\n",
       " 'feita',\n",
       " 'feitas',\n",
       " 'feito',\n",
       " 'feitos',\n",
       " 'foi',\n",
       " 'for',\n",
       " 'foram',\n",
       " 'fosse',\n",
       " 'fossem',\n",
       " 'grande',\n",
       " 'grandes',\n",
       " 'há',\n",
       " 'isso',\n",
       " 'isto',\n",
       " 'já',\n",
       " 'la',\n",
       " 'lá',\n",
       " 'lhe',\n",
       " 'lhes',\n",
       " 'lo',\n",
       " 'mas',\n",
       " 'me',\n",
       " 'mesma',\n",
       " 'mesmas',\n",
       " 'mesmo',\n",
       " 'mesmos',\n",
       " 'meu',\n",
       " 'meus',\n",
       " 'minha',\n",
       " 'minhas',\n",
       " 'muita',\n",
       " 'muitas',\n",
       " 'muito',\n",
       " 'muitos',\n",
       " 'na',\n",
       " 'não',\n",
       " 'nas',\n",
       " 'nem',\n",
       " 'nenhum',\n",
       " 'nessa',\n",
       " 'nessas',\n",
       " 'nesta',\n",
       " 'nestas',\n",
       " 'ninguém',\n",
       " 'no',\n",
       " 'nos',\n",
       " 'nós',\n",
       " 'nossa',\n",
       " 'nossas',\n",
       " 'nosso',\n",
       " 'nossos',\n",
       " 'num',\n",
       " 'numa',\n",
       " 'nunca',\n",
       " 'o',\n",
       " 'os',\n",
       " 'ou',\n",
       " 'outra',\n",
       " 'outras',\n",
       " 'outro',\n",
       " 'outros',\n",
       " 'para',\n",
       " 'pela',\n",
       " 'pelas',\n",
       " 'pelo',\n",
       " 'pelos',\n",
       " 'pequena',\n",
       " 'pequenas',\n",
       " 'pequeno',\n",
       " 'pequenos',\n",
       " 'per',\n",
       " 'perante',\n",
       " 'pode',\n",
       " 'pude',\n",
       " 'podendo',\n",
       " 'poder',\n",
       " 'poderia',\n",
       " 'poderiam',\n",
       " 'podia',\n",
       " 'podiam',\n",
       " 'pois',\n",
       " 'por',\n",
       " 'porém',\n",
       " 'porque',\n",
       " 'posso',\n",
       " 'pouca',\n",
       " 'poucas',\n",
       " 'pouco',\n",
       " 'poucos',\n",
       " 'primeiro',\n",
       " 'primeiros',\n",
       " 'própria',\n",
       " 'próprias',\n",
       " 'próprio',\n",
       " 'próprios',\n",
       " 'quais',\n",
       " 'qual',\n",
       " 'quando',\n",
       " 'quanto',\n",
       " 'quantos',\n",
       " 'que',\n",
       " 'quem',\n",
       " 'são',\n",
       " 'se',\n",
       " 'seja',\n",
       " 'sejam',\n",
       " 'sem',\n",
       " 'sempre',\n",
       " 'sendo',\n",
       " 'será',\n",
       " 'serão',\n",
       " 'seu',\n",
       " 'seus',\n",
       " 'si',\n",
       " 'sido',\n",
       " 'só',\n",
       " 'sob',\n",
       " 'sobre',\n",
       " 'sua',\n",
       " 'suas',\n",
       " 'talvez',\n",
       " 'também',\n",
       " 'tampouco',\n",
       " 'te',\n",
       " 'tem',\n",
       " 'tendo',\n",
       " 'tenha',\n",
       " 'ter',\n",
       " 'teu',\n",
       " 'teus',\n",
       " 'ti',\n",
       " 'tido',\n",
       " 'tinha',\n",
       " 'tinham',\n",
       " 'toda',\n",
       " 'todas',\n",
       " 'todavia',\n",
       " 'todo',\n",
       " 'todos',\n",
       " 'tu',\n",
       " 'tua',\n",
       " 'tuas',\n",
       " 'tudo',\n",
       " 'última',\n",
       " 'últimas',\n",
       " 'último',\n",
       " 'últimos',\n",
       " 'um',\n",
       " 'uma',\n",
       " 'umas',\n",
       " 'uns',\n",
       " 'vendo',\n",
       " 'ver',\n",
       " 'vez',\n",
       " 'vindo',\n",
       " 'vir',\n",
       " 'vos',\n",
       " 'vós']"
      ]
     },
     "execution_count": 13,
     "metadata": {},
     "output_type": "execute_result"
    }
   ],
   "source": [
    "stop_word"
   ]
  },
  {
   "cell_type": "code",
   "execution_count": 14,
   "id": "1a422872",
   "metadata": {},
   "outputs": [
    {
     "data": {
      "text/plain": [
       "'!\"#$%&\\'()*+,-./:;<=>?@[\\\\]^_`{|}~'"
      ]
     },
     "execution_count": 14,
     "metadata": {},
     "output_type": "execute_result"
    }
   ],
   "source": [
    "string.punctuation"
   ]
  },
  {
   "cell_type": "code",
   "execution_count": 117,
   "id": "7e6a4ffd",
   "metadata": {},
   "outputs": [],
   "source": [
    "def simple_clear(text):\n",
    "    \n",
    "    ''' \n",
    "    simples clear, elimined space and break lines \n",
    "    :param text: str text\n",
    "    return: str re.sub(r'\\s+',\" \", text.lower())\n",
    "    '''\n",
    "    \n",
    "    return re.sub(r'\\s+',\" \", text.lower())\n",
    "\n",
    "def normalize_text(text, lemma = False):\n",
    "    \n",
    "    ''' \n",
    "    harmonizetion of text,separede text in words, \n",
    "    remove space, simbols and stop word (words not contribuinls to meaning) \n",
    "    :param text: str text\n",
    "    return: list text_harmonization: list fo words harmonizeds \n",
    "    '''\n",
    "    if lemma:\n",
    "        pln = spacy.load(\"pt_core_news_sm\")\n",
    "        tokens = [token.lemma_ for token in pln(art_anime) \n",
    "                  if str(token) not in stop_word \n",
    "                  and str(token) not in string.punctuation \n",
    "                  and not str(token).isdigit()]\n",
    "    else:\n",
    "        tokens = nltk.word_tokenize(text.lower(), language=\"Portuguese\")\n",
    "    \n",
    "    text_harmonization = [word for word  in tokens if word not in stop_word and word not in string.punctuation and not word.isdigit()]  \n",
    "    return text_harmonization"
   ]
  },
  {
   "cell_type": "code",
   "execution_count": null,
   "id": "61f0b18f",
   "metadata": {},
   "outputs": [],
   "source": [
    "harmonized_words = normalize_text(art_anime, True)"
   ]
  },
  {
   "cell_type": "code",
   "execution_count": 17,
   "id": "c2689bf7",
   "metadata": {},
   "outputs": [
    {
     "data": {
      "text/plain": [
       "'site oficial adaptação anime mangá comédia romântica aharen-san wa hakarenai divulgou segundo vídeo promocional vídeo anuncia mais três novos dubladores apresenta música tema abertura grupo trysail “ hanarenai kyori ” inseparable distance revela estreia anime dia 1º abril sinopse reina aharen aluna bonita voz baixa ruim determinar distâncias espaço pessoal às vezes centímetros rosto vezes quilômetros distância único tenta entender travessuras raidou matsuboshi sentado lado classe rosto ameaçador realidade menino gentil imaginação às vezes correr solta aharen-san wa hakarenai segue estranho par estranha amizade começa florescer raidou pega borracha aharen interpreta mal gesto acredita melhores amigos mostrando mais simples podem ser mais complicados desafios aharen-san wa hakarenai estreará portanto bloco animeism canais tbs mbs dia abril'"
      ]
     },
     "execution_count": 17,
     "metadata": {},
     "output_type": "execute_result"
    }
   ],
   "source": [
    "harmonized_text = \" \".join(harmonized_words)\n",
    "harmonized_text"
   ]
  },
  {
   "cell_type": "code",
   "execution_count": 18,
   "id": "47778d93",
   "metadata": {},
   "outputs": [],
   "source": [
    "def frequency_in_text(word, text):\n",
    "    \n",
    "    '''\n",
    "    search word in text and return number of times it appears in the text\n",
    "    :param word: string -> word search in text\n",
    "    :páram text: string -> text \n",
    "    :return int len(re.findall(word, text)):\n",
    "    '''\n",
    "    return len(re.findall(word, text))\n",
    "    \n",
    "def frenquency(list_words, text):\n",
    "    \n",
    "    '''\n",
    "    search list if the words in text and return dictonary of word and frequncy on the text\n",
    "    :param list_word: string -> list of the words search in text\n",
    "    :páram text: string -> text \n",
    "    :return dict { word : frequency_in_text(word, text) for word in list_words}):\n",
    "    '''\n",
    "    \n",
    "    return { word : frequency_in_text(word, text) for word in list_words}"
   ]
  },
  {
   "cell_type": "code",
   "execution_count": 19,
   "id": "a04ba9e5",
   "metadata": {},
   "outputs": [
    {
     "data": {
      "text/plain": [
       "FreqDist({'aharen-san': 3, 'wa': 3, 'hakarenai': 3, 'mais': 3, 'vezes': 3, 'anime': 2, 'vídeo': 2, 'dia': 2, 'abril': 2, 'aharen': 2, ...})"
      ]
     },
     "execution_count": 19,
     "metadata": {},
     "output_type": "execute_result"
    }
   ],
   "source": [
    "# calculo de frequencia usando a biblioteca de linguagem natural \n",
    "nltk.FreqDist(nltk.word_tokenize(harmonized_text.lower(), language = \"Portuguese\"))"
   ]
  },
  {
   "cell_type": "code",
   "execution_count": 20,
   "id": "b5d1d7ef",
   "metadata": {},
   "outputs": [],
   "source": [
    "frenquencia = frenquency(harmonized_words, harmonized_text)"
   ]
  },
  {
   "cell_type": "code",
   "execution_count": 21,
   "id": "3142f8c2",
   "metadata": {},
   "outputs": [
    {
     "data": {
      "text/plain": [
       "{'site': 1,\n",
       " 'oficial': 1,\n",
       " 'adaptação': 1,\n",
       " 'anime': 3,\n",
       " 'mangá': 1,\n",
       " 'comédia': 1,\n",
       " 'romântica': 1,\n",
       " 'aharen-san': 3,\n",
       " 'wa': 3,\n",
       " 'hakarenai': 3,\n",
       " 'divulgou': 1,\n",
       " 'segundo': 1,\n",
       " 'vídeo': 2,\n",
       " 'promocional': 1,\n",
       " 'anuncia': 1,\n",
       " 'mais': 3,\n",
       " 'três': 1,\n",
       " 'novos': 1,\n",
       " 'dubladores': 1,\n",
       " 'apresenta': 1,\n",
       " 'música': 1,\n",
       " 'tema': 1,\n",
       " 'abertura': 1,\n",
       " 'grupo': 1,\n",
       " 'trysail': 1,\n",
       " '“': 1,\n",
       " 'hanarenai': 1,\n",
       " 'kyori': 1,\n",
       " '”': 1,\n",
       " 'inseparable': 1,\n",
       " 'distance': 1,\n",
       " 'revela': 1,\n",
       " 'estreia': 1,\n",
       " 'dia': 3,\n",
       " '1º': 1,\n",
       " 'abril': 2,\n",
       " 'sinopse': 1,\n",
       " 'reina': 1,\n",
       " 'aharen': 5,\n",
       " 'aluna': 1,\n",
       " 'bonita': 1,\n",
       " 'voz': 1,\n",
       " 'baixa': 1,\n",
       " 'ruim': 1,\n",
       " 'determinar': 1,\n",
       " 'distâncias': 1,\n",
       " 'espaço': 1,\n",
       " 'pessoal': 1,\n",
       " 'às': 2,\n",
       " 'vezes': 3,\n",
       " 'centímetros': 1,\n",
       " 'rosto': 2,\n",
       " 'quilômetros': 1,\n",
       " 'distância': 2,\n",
       " 'único': 1,\n",
       " 'tenta': 1,\n",
       " 'entender': 1,\n",
       " 'travessuras': 1,\n",
       " 'raidou': 2,\n",
       " 'matsuboshi': 1,\n",
       " 'sentado': 1,\n",
       " 'lado': 2,\n",
       " 'classe': 1,\n",
       " 'ameaçador': 1,\n",
       " 'realidade': 1,\n",
       " 'menino': 1,\n",
       " 'gentil': 1,\n",
       " 'imaginação': 1,\n",
       " 'correr': 1,\n",
       " 'solta': 1,\n",
       " 'segue': 1,\n",
       " 'estranho': 1,\n",
       " 'par': 2,\n",
       " 'estranha': 1,\n",
       " 'amizade': 1,\n",
       " 'começa': 1,\n",
       " 'florescer': 1,\n",
       " 'pega': 1,\n",
       " 'borracha': 1,\n",
       " 'interpreta': 1,\n",
       " 'mal': 1,\n",
       " 'gesto': 1,\n",
       " 'acredita': 1,\n",
       " 'melhores': 1,\n",
       " 'amigos': 1,\n",
       " 'mostrando': 1,\n",
       " 'simples': 1,\n",
       " 'podem': 1,\n",
       " 'ser': 1,\n",
       " 'complicados': 1,\n",
       " 'desafios': 1,\n",
       " 'estreará': 1,\n",
       " 'portanto': 1,\n",
       " 'bloco': 1,\n",
       " 'animeism': 1,\n",
       " 'canais': 1,\n",
       " 'tbs': 1,\n",
       " 'mbs': 1}"
      ]
     },
     "execution_count": 21,
     "metadata": {},
     "output_type": "execute_result"
    }
   ],
   "source": [
    "frenquencia"
   ]
  },
  {
   "cell_type": "code",
   "execution_count": 22,
   "id": "0bbe494b",
   "metadata": {},
   "outputs": [
    {
     "data": {
      "text/plain": [
       "5"
      ]
     },
     "execution_count": 22,
     "metadata": {},
     "output_type": "execute_result"
    }
   ],
   "source": [
    "max_frenquency = max(frenquencia.values())\n",
    "max_frenquency"
   ]
  },
  {
   "cell_type": "code",
   "execution_count": 23,
   "id": "1f223061",
   "metadata": {},
   "outputs": [],
   "source": [
    "wiegth = { word : note/max_frenquency for word, note in frenquencia.items()}"
   ]
  },
  {
   "cell_type": "code",
   "execution_count": 24,
   "id": "30a3b855",
   "metadata": {},
   "outputs": [
    {
     "data": {
      "text/plain": [
       "dict_items([('site', 0.2), ('oficial', 0.2), ('adaptação', 0.2), ('anime', 0.6), ('mangá', 0.2), ('comédia', 0.2), ('romântica', 0.2), ('aharen-san', 0.6), ('wa', 0.6), ('hakarenai', 0.6), ('divulgou', 0.2), ('segundo', 0.2), ('vídeo', 0.4), ('promocional', 0.2), ('anuncia', 0.2), ('mais', 0.6), ('três', 0.2), ('novos', 0.2), ('dubladores', 0.2), ('apresenta', 0.2), ('música', 0.2), ('tema', 0.2), ('abertura', 0.2), ('grupo', 0.2), ('trysail', 0.2), ('“', 0.2), ('hanarenai', 0.2), ('kyori', 0.2), ('”', 0.2), ('inseparable', 0.2), ('distance', 0.2), ('revela', 0.2), ('estreia', 0.2), ('dia', 0.6), ('1º', 0.2), ('abril', 0.4), ('sinopse', 0.2), ('reina', 0.2), ('aharen', 1.0), ('aluna', 0.2), ('bonita', 0.2), ('voz', 0.2), ('baixa', 0.2), ('ruim', 0.2), ('determinar', 0.2), ('distâncias', 0.2), ('espaço', 0.2), ('pessoal', 0.2), ('às', 0.4), ('vezes', 0.6), ('centímetros', 0.2), ('rosto', 0.4), ('quilômetros', 0.2), ('distância', 0.4), ('único', 0.2), ('tenta', 0.2), ('entender', 0.2), ('travessuras', 0.2), ('raidou', 0.4), ('matsuboshi', 0.2), ('sentado', 0.2), ('lado', 0.4), ('classe', 0.2), ('ameaçador', 0.2), ('realidade', 0.2), ('menino', 0.2), ('gentil', 0.2), ('imaginação', 0.2), ('correr', 0.2), ('solta', 0.2), ('segue', 0.2), ('estranho', 0.2), ('par', 0.4), ('estranha', 0.2), ('amizade', 0.2), ('começa', 0.2), ('florescer', 0.2), ('pega', 0.2), ('borracha', 0.2), ('interpreta', 0.2), ('mal', 0.2), ('gesto', 0.2), ('acredita', 0.2), ('melhores', 0.2), ('amigos', 0.2), ('mostrando', 0.2), ('simples', 0.2), ('podem', 0.2), ('ser', 0.2), ('complicados', 0.2), ('desafios', 0.2), ('estreará', 0.2), ('portanto', 0.2), ('bloco', 0.2), ('animeism', 0.2), ('canais', 0.2), ('tbs', 0.2), ('mbs', 0.2)])"
      ]
     },
     "execution_count": 24,
     "metadata": {},
     "output_type": "execute_result"
    }
   ],
   "source": [
    "wiegth.items()"
   ]
  },
  {
   "cell_type": "code",
   "execution_count": 25,
   "id": "90d20517",
   "metadata": {},
   "outputs": [],
   "source": [
    "sentenc_text = nltk.sent_tokenize(simple_clear(art_anime), language = \"Portuguese\")"
   ]
  },
  {
   "cell_type": "code",
   "execution_count": 69,
   "id": "e625de2c",
   "metadata": {},
   "outputs": [],
   "source": [
    "def wiegth_sentency(sentency, wiegths):\n",
    "\n",
    "    '''\n",
    "    calculate a sumarize of the grades per words in sentence and return a value \n",
    "    :param sentency: str \n",
    "    :param wieghts: dict -> dictonary of the words with wiegths\n",
    "    :return float sum([wiegths[word] for word in tokens if word in wiegths.keys()])?\n",
    "    '''\n",
    "    \n",
    "    tokens = nltk.word_tokenize(sentency, language = \"Portuguese\")\n",
    "    return sum([wiegths[word] for word in tokens if word in wiegths.keys()])\n",
    "\n",
    "wiegth_sent = [[index , wiegth_sentency(sentenc_text[index], wiegth)] for index in range(len(sentenc_text))]\n",
    "    "
   ]
  },
  {
   "cell_type": "code",
   "execution_count": null,
   "id": "4f213edf",
   "metadata": {},
   "outputs": [],
   "source": []
  },
  {
   "cell_type": "code",
   "execution_count": 70,
   "id": "64ccd1c6",
   "metadata": {},
   "outputs": [
    {
     "data": {
      "text/plain": [
       "[[0, 4.6000000000000005],\n",
       " [1, 6.400000000000002],\n",
       " [2, 3.2000000000000006],\n",
       " [3, 2.8000000000000003],\n",
       " [4, 2.2],\n",
       " [5, 2.8000000000000003],\n",
       " [6, 5.2],\n",
       " [7, 3.600000000000001],\n",
       " [8, 4.200000000000001]]"
      ]
     },
     "execution_count": 70,
     "metadata": {},
     "output_type": "execute_result"
    }
   ],
   "source": [
    "wiegth_sent"
   ]
  },
  {
   "cell_type": "code",
   "execution_count": 81,
   "id": "c73cc9db",
   "metadata": {},
   "outputs": [],
   "source": [
    "order = True"
   ]
  },
  {
   "cell_type": "code",
   "execution_count": 73,
   "id": "6ef0d161",
   "metadata": {},
   "outputs": [
    {
     "data": {
      "text/plain": [
       "[[1, 6.400000000000002],\n",
       " [6, 5.2],\n",
       " [0, 4.6000000000000005],\n",
       " [8, 4.200000000000001],\n",
       " [7, 3.600000000000001],\n",
       " [2, 3.2000000000000006],\n",
       " [3, 2.8000000000000003],\n",
       " [5, 2.8000000000000003],\n",
       " [4, 2.2]]"
      ]
     },
     "execution_count": 73,
     "metadata": {},
     "output_type": "execute_result"
    }
   ],
   "source": [
    "ordenate = sorted(wiegth_sent, key = lambda x: x[1] , reverse = True)\n",
    "ordenate"
   ]
  },
  {
   "cell_type": "code",
   "execution_count": 82,
   "id": "125b1932",
   "metadata": {},
   "outputs": [
    {
     "data": {
      "text/plain": [
       "[0, 1, 6, 8]"
      ]
     },
     "execution_count": 82,
     "metadata": {},
     "output_type": "execute_result"
    }
   ],
   "source": [
    "ordenate_rank = [index[0] for index in ordenate]\n",
    "if order:\n",
    "    ordenate_rank = sorted(ordenate_rank[:4])\n",
    "ordenate_rank"
   ]
  },
  {
   "cell_type": "code",
   "execution_count": 41,
   "id": "b56a5d2e",
   "metadata": {},
   "outputs": [],
   "source": [
    "def resume(sentency, list_):\n",
    "    \n",
    "    '''\n",
    "    resume a text starting of the dictonary with grades and index of the sentences\n",
    "    :param sentency: dict -> sentences and weight\n",
    "    :param list_weight:list -> list of the index of the sent \n",
    "    :return string  \" \".join(sent):\n",
    "    \n",
    "    '''\n",
    "    sent = [sentency[index] for index in list_]\n",
    "    return \" \".join(sent)"
   ]
  },
  {
   "cell_type": "code",
   "execution_count": 84,
   "id": "34341525",
   "metadata": {},
   "outputs": [
    {
     "data": {
      "text/plain": [
       "'o site oficial da adaptação em anime do mangá de comédia romântica aharen-san wa hakarenai divulgou o segundo vídeo promocional do mesmo. o vídeo anuncia mais três novos dubladores, apresenta a música tema de abertura do grupo trysail “hanarenai kyori” (inseparable distance) e revela a estreia do anime para o dia 1º de abril. aharen-san wa hakarenai segue o estranho par enquanto sua estranha amizade começa a florescer quando raidou pega a borracha de aharen para ela. aharen-san wa hakarenai estreará portanto no bloco animeism nos canais tbs e mbs no dia 1 de abril.'"
      ]
     },
     "execution_count": 84,
     "metadata": {},
     "output_type": "execute_result"
    }
   ],
   "source": [
    "resume(sentenc_text, ordenate_rank[:4])"
   ]
  },
  {
   "cell_type": "code",
   "execution_count": 24,
   "id": "4c8d93b9",
   "metadata": {},
   "outputs": [
    {
     "data": {
      "text/plain": [
       "[3.2000000000000006, 2.2, 6.400000000000002, 4.6000000000000005]"
      ]
     },
     "execution_count": 24,
     "metadata": {},
     "output_type": "execute_result"
    }
   ],
   "source": [
    "import heapq\n",
    "heapq.nlargest(4 , wiegth_sent, key = wiegth_sent.get )"
   ]
  },
  {
   "cell_type": "code",
   "execution_count": null,
   "id": "82909f5b",
   "metadata": {},
   "outputs": [],
   "source": []
  },
  {
   "cell_type": "code",
   "execution_count": 89,
   "id": "3251f474",
   "metadata": {},
   "outputs": [],
   "source": [
    "def sumarize_per_frequency(text, n = 10, order = False):\n",
    "    \n",
    "    harmonized_words = normalize_text(text)\n",
    "    harmonized_text = \" \".join(harmonized_words)\n",
    "    \n",
    "    frenquencia = frenquency(harmonized_words, harmonized_text)\n",
    "    max_frenquency = max(frenquencia.values())\n",
    "    wiegth = { word : note/max_frenquency for word, note in frenquencia.items()}\n",
    "    sentenc_text = nltk.sent_tokenize(simple_clear(text), language = \"Portuguese\")\n",
    "        \n",
    "    wiegth_sent = [[index , wiegth_sentency(sentenc_text[index], wiegth)] for index in range(len(sentenc_text))]\n",
    "    ordenate = sorted(wiegth_sent, key = lambda x: x[1] , reverse = True)\n",
    "    \n",
    "    ordenate_rank = [index[0] for index in ordenate]\n",
    "    if order:\n",
    "        ordenate_rank = sorted(ordenate_rank[:n])\n",
    "\n",
    "    return resume(sentenc_text, ordenate_rank[:n])"
   ]
  },
  {
   "cell_type": "code",
   "execution_count": 91,
   "id": "3712cf17",
   "metadata": {},
   "outputs": [
    {
     "data": {
      "text/plain": [
       "'o site oficial da adaptação em anime do mangá de comédia romântica aharen-san wa hakarenai divulgou o segundo vídeo promocional do mesmo. o vídeo anuncia mais três novos dubladores, apresenta a música tema de abertura do grupo trysail “hanarenai kyori” (inseparable distance) e revela a estreia do anime para o dia 1º de abril. aharen-san wa hakarenai segue o estranho par enquanto sua estranha amizade começa a florescer quando raidou pega a borracha de aharen para ela. ela interpreta mal o gesto dele e agora acredita que eles são os melhores amigos, mostrando como as coisas mais simples podem ser os mais complicados dos desafios para eles. aharen-san wa hakarenai estreará portanto no bloco animeism nos canais tbs e mbs no dia 1 de abril.'"
      ]
     },
     "execution_count": 91,
     "metadata": {},
     "output_type": "execute_result"
    }
   ],
   "source": [
    "sumarize_per_frequency(art_anime, 5, order = True)\n"
   ]
  },
  {
   "cell_type": "code",
   "execution_count": null,
   "id": "e101313b",
   "metadata": {},
   "outputs": [],
   "source": []
  },
  {
   "cell_type": "code",
   "execution_count": 2,
   "id": "06d54640",
   "metadata": {},
   "outputs": [
    {
     "name": "stderr",
     "output_type": "stream",
     "text": [
      "[nltk_data] Downloading package punkt to\n",
      "[nltk_data]     C:\\Users\\thiag\\AppData\\Roaming\\nltk_data...\n",
      "[nltk_data]   Package punkt is already up-to-date!\n"
     ]
    }
   ],
   "source": [
    "from sumariza import sumarize_per_frequency as sumi"
   ]
  },
  {
   "cell_type": "code",
   "execution_count": 4,
   "id": "5406b3c3",
   "metadata": {},
   "outputs": [
    {
     "data": {
      "text/plain": [
       "'o vídeo anuncia mais três novos dubladores, apresenta a música tema de abertura do grupo trysail “hanarenai kyori” (inseparable distance) e revela a estreia do anime para o dia 1º de abril. aharen-san wa hakarenai segue o estranho par enquanto sua estranha amizade começa a florescer quando raidou pega a borracha de aharen para ela. o site oficial da adaptação em anime do mangá de comédia romântica aharen-san wa hakarenai divulgou o segundo vídeo promocional do mesmo. aharen-san wa hakarenai estreará portanto no bloco animeism nos canais tbs e mbs no dia 1 de abril. ela interpreta mal o gesto dele e agora acredita que eles são os melhores amigos, mostrando como as coisas mais simples podem ser os mais complicados dos desafios para eles. sinopse reina aharen, uma aluna pequena e bonita com uma voz baixa, é muito ruim em determinar distâncias e espaço pessoal. ele tem um rosto ameaçador, mas na realidade, ele é um menino gentil com uma imaginação que às vezes pode correr solta. o único que tenta entender suas travessuras é raidou matsuboshi, que está sentado ao lado dela na classe.'"
      ]
     },
     "execution_count": 4,
     "metadata": {},
     "output_type": "execute_result"
    }
   ],
   "source": [
    "sumi(art_anime, 9)"
   ]
  },
  {
   "cell_type": "code",
   "execution_count": null,
   "id": "1a3c8301",
   "metadata": {},
   "outputs": [],
   "source": []
  },
  {
   "cell_type": "code",
   "execution_count": null,
   "id": "1dddab34",
   "metadata": {},
   "outputs": [],
   "source": []
  }
 ],
 "metadata": {
  "kernelspec": {
   "display_name": "Python 3 (ipykernel)",
   "language": "python",
   "name": "python3"
  },
  "language_info": {
   "codemirror_mode": {
    "name": "ipython",
    "version": 3
   },
   "file_extension": ".py",
   "mimetype": "text/x-python",
   "name": "python",
   "nbconvert_exporter": "python",
   "pygments_lexer": "ipython3",
   "version": "3.10.2"
  }
 },
 "nbformat": 4,
 "nbformat_minor": 5
}
